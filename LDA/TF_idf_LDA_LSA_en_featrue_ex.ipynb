{
 "cells": [
  {
   "cell_type": "markdown",
   "metadata": {},
   "source": [
    "# 利用 TF-idf 、 LDA 、LSA 进行 特征 提取"
   ]
  },
  {
   "cell_type": "markdown",
   "metadata": {
    "heading_collapsed": true
   },
   "source": [
    "## 加载库"
   ]
  },
  {
   "cell_type": "code",
   "execution_count": 18,
   "metadata": {
    "hidden": true
   },
   "outputs": [],
   "source": [
    "import os\n",
    "from gensim import corpora, models, similarities\n",
    "from pprint import pprint\n",
    "from matplotlib import pyplot as plt\n",
    "import logging\n",
    "from gensim import corpora\n",
    "from collections import defaultdict\n",
    "import numpy as np "
   ]
  },
  {
   "cell_type": "markdown",
   "metadata": {},
   "source": [
    "## 数据预处理"
   ]
  },
  {
   "cell_type": "code",
   "execution_count": 163,
   "metadata": {},
   "outputs": [
    {
     "data": {
      "text/plain": [
       "[['human', 'machine', 'interface', 'lab', 'abc', 'computer', 'applications'],\n",
       " ['survey', 'user', 'opinion', 'computer', 'system', 'response', 'time'],\n",
       " ['eps', 'user', 'interface', 'management', 'system'],\n",
       " ['system', 'human', 'system', 'engineering', 'testing', 'eps'],\n",
       " ['relation', 'user', 'perceived', 'response', 'time', 'error', 'measurement'],\n",
       " ['generation', 'random', 'binary', 'unordered', 'trees'],\n",
       " ['intersection', 'graph', 'paths', 'trees'],\n",
       " ['graph', 'minors', 'iv', 'widths', 'trees', 'well', 'quasi', 'ordering'],\n",
       " ['graph', 'minors', 'survey']]"
      ]
     },
     "execution_count": 163,
     "metadata": {},
     "output_type": "execute_result"
    }
   ],
   "source": [
    "documents = [\"Human machine interface for lab abc computer applications\",\n",
    "             \"A survey of user opinion of computer system response time\",\n",
    "             \"The EPS user interface management system\",\n",
    "             \"System and human system engineering testing of EPS\",\n",
    "             \"Relation of user perceived response time to error measurement\",\n",
    "             \"The generation of random binary unordered trees\",\n",
    "             \"The intersection graph of paths in trees\",\n",
    "             \"Graph minors IV Widths of trees and well quasi ordering\",\n",
    "             \"Graph minors A survey\"]\n",
    "\n",
    "# 去掉停用词\n",
    "stoplist = set('for a of the and to in'.split())\n",
    "texts = [[word for word in document.lower().split() if word not in stoplist]\n",
    "         for document in documents]\n",
    "texts"
   ]
  },
  {
   "cell_type": "code",
   "execution_count": null,
   "metadata": {},
   "outputs": [],
   "source": [
    "# 去掉只出现低于 n 次的单词\n",
    "n = 0\n",
    "frequency = defaultdict(int)\n",
    "for text in texts:\n",
    "    for token in text:\n",
    "        frequency[token] += 1\n",
    "texts = [[token for token in text if frequency[token] > n]\n",
    "         for text in texts]\n",
    "\n",
    "dictionary = corpora.Dictionary(texts)   # 生成词典\n",
    "\n",
    "# 将文档存入字典，字典有很多功能，比如\n",
    "# diction.token2id 存放的是单词-id key-value对\n",
    "# diction.dfs 存放的是单词的出现频率\n",
    "dictionary.save('output/deerwester.dict')  # store the dictionary, for future reference\n",
    "corpus = [dictionary.doc2bow(text) for text in texts]\n",
    "corpora.MmCorpus.serialize('output/deerwester.mm', corpus)  # store to disk, for later use"
   ]
  },
  {
   "cell_type": "markdown",
   "metadata": {},
   "source": [
    "注意最后的corpora.MmCorpus.serialize 将corpus持久化到磁盘中。相反，可以用以下命令来从磁盘中读取corpus。\n",
    "\n",
    "除了MmCorpus以外，还有其他的格式，例如SvmLightCorpus, BleiCorpus, LowCorpus等等，用法类似。"
   ]
  },
  {
   "cell_type": "code",
   "execution_count": 3,
   "metadata": {},
   "outputs": [],
   "source": [
    "corpus = corpora.MmCorpus('output/deerwester.mm')"
   ]
  },
  {
   "cell_type": "code",
   "execution_count": 72,
   "metadata": {},
   "outputs": [
    {
     "data": {
      "text/plain": [
       "[[(0, 1.0), (1, 1.0), (2, 1.0), (3, 1.0), (4, 1.0), (5, 1.0), (6, 1.0)],\n",
       " [(2, 1.0), (7, 1.0), (8, 1.0), (9, 1.0), (10, 1.0), (11, 1.0), (12, 1.0)],\n",
       " [(4, 1.0), (10, 1.0), (12, 1.0), (13, 1.0), (14, 1.0)],\n",
       " [(3, 1.0), (10, 2.0), (13, 1.0), (15, 1.0), (16, 1.0)],\n",
       " [(8, 1.0), (11, 1.0), (12, 1.0), (17, 1.0), (18, 1.0), (19, 1.0), (20, 1.0)],\n",
       " [(21, 1.0), (22, 1.0), (23, 1.0), (24, 1.0), (25, 1.0)],\n",
       " [(24, 1.0), (26, 1.0), (27, 1.0), (28, 1.0)],\n",
       " [(24, 1.0),\n",
       "  (26, 1.0),\n",
       "  (29, 1.0),\n",
       "  (30, 1.0),\n",
       "  (31, 1.0),\n",
       "  (32, 1.0),\n",
       "  (33, 1.0),\n",
       "  (34, 1.0)],\n",
       " [(9, 1.0), (26, 1.0), (30, 1.0)]]"
      ]
     },
     "execution_count": 72,
     "metadata": {},
     "output_type": "execute_result"
    }
   ],
   "source": [
    "nodes = list(corpus)\n",
    "nodes"
   ]
  },
  {
   "cell_type": "markdown",
   "metadata": {
    "heading_collapsed": true
   },
   "source": [
    "## 编写函数"
   ]
  },
  {
   "cell_type": "code",
   "execution_count": 4,
   "metadata": {
    "code_folding": [
     0
    ],
    "hidden": true
   },
   "outputs": [],
   "source": [
    "def PrintDictionary(dictionary):\n",
    "    token2id = dictionary.token2id\n",
    "    dfs = dictionary.dfs\n",
    "    token_info = {}\n",
    "    for word in token2id:\n",
    "        token_info[word] = dict(\n",
    "            word = word,\n",
    "            id = token2id[word],\n",
    "            freq = dfs[token2id[word]]\n",
    "        )\n",
    "    token_items = token_info.values()\n",
    "    token_items = sorted(token_items, key = lambda x:x['id'])\n",
    "    print('The info of dictionary: ')\n",
    "    pprint(token_items)\n",
    "    print('--------------------------')\n",
    "\n",
    "def Show2dCorpora(corpus):\n",
    "    nodes = list(corpus)\n",
    "    ax0 = [x[0][1] for x in nodes] # 绘制各个doc代表的点\n",
    "    ax1 = [x[1][1] for x in nodes]\n",
    "    # print(ax0)\n",
    "    # print(ax1)\n",
    "    plt.plot(ax0,ax1,'o')\n",
    "    plt.show()"
   ]
  },
  {
   "cell_type": "markdown",
   "metadata": {
    "heading_collapsed": true
   },
   "source": [
    "## 数据加载"
   ]
  },
  {
   "cell_type": "code",
   "execution_count": 5,
   "metadata": {
    "hidden": true,
    "scrolled": true
   },
   "outputs": [
    {
     "name": "stdout",
     "output_type": "stream",
     "text": [
      "Used files generated from first tutorial\n",
      "The info of dictionary: \n",
      "[{'freq': 1, 'id': 0, 'word': 'abc'},\n",
      " {'freq': 1, 'id': 1, 'word': 'applications'},\n",
      " {'freq': 2, 'id': 2, 'word': 'computer'},\n",
      " {'freq': 2, 'id': 3, 'word': 'human'},\n",
      " {'freq': 2, 'id': 4, 'word': 'interface'},\n",
      " {'freq': 1, 'id': 5, 'word': 'lab'},\n",
      " {'freq': 1, 'id': 6, 'word': 'machine'},\n",
      " {'freq': 1, 'id': 7, 'word': 'opinion'},\n",
      " {'freq': 2, 'id': 8, 'word': 'response'},\n",
      " {'freq': 2, 'id': 9, 'word': 'survey'},\n",
      " {'freq': 3, 'id': 10, 'word': 'system'},\n",
      " {'freq': 2, 'id': 11, 'word': 'time'},\n",
      " {'freq': 3, 'id': 12, 'word': 'user'},\n",
      " {'freq': 2, 'id': 13, 'word': 'eps'},\n",
      " {'freq': 1, 'id': 14, 'word': 'management'},\n",
      " {'freq': 1, 'id': 15, 'word': 'engineering'},\n",
      " {'freq': 1, 'id': 16, 'word': 'testing'},\n",
      " {'freq': 1, 'id': 17, 'word': 'error'},\n",
      " {'freq': 1, 'id': 18, 'word': 'measurement'},\n",
      " {'freq': 1, 'id': 19, 'word': 'perceived'},\n",
      " {'freq': 1, 'id': 20, 'word': 'relation'},\n",
      " {'freq': 1, 'id': 21, 'word': 'binary'},\n",
      " {'freq': 1, 'id': 22, 'word': 'generation'},\n",
      " {'freq': 1, 'id': 23, 'word': 'random'},\n",
      " {'freq': 3, 'id': 24, 'word': 'trees'},\n",
      " {'freq': 1, 'id': 25, 'word': 'unordered'},\n",
      " {'freq': 3, 'id': 26, 'word': 'graph'},\n",
      " {'freq': 1, 'id': 27, 'word': 'intersection'},\n",
      " {'freq': 1, 'id': 28, 'word': 'paths'},\n",
      " {'freq': 1, 'id': 29, 'word': 'iv'},\n",
      " {'freq': 2, 'id': 30, 'word': 'minors'},\n",
      " {'freq': 1, 'id': 31, 'word': 'ordering'},\n",
      " {'freq': 1, 'id': 32, 'word': 'quasi'},\n",
      " {'freq': 1, 'id': 33, 'word': 'well'},\n",
      " {'freq': 1, 'id': 34, 'word': 'widths'}]\n",
      "--------------------------\n"
     ]
    }
   ],
   "source": [
    "if (os.path.exists(\"output/deerwester.dict\")):\n",
    "    dictionary = corpora.Dictionary.load('output/deerwester.dict')\n",
    "    corpus = corpora.MmCorpus('output/deerwester.mm')\n",
    "    print(\"Used files generated from first tutorial\")\n",
    "else:\n",
    "    print(\"Please run first tutorial to generate data set\")\n",
    "\n",
    "PrintDictionary(dictionary)"
   ]
  },
  {
   "cell_type": "markdown",
   "metadata": {},
   "source": [
    "## TF-idf"
   ]
  },
  {
   "cell_type": "code",
   "execution_count": 6,
   "metadata": {},
   "outputs": [],
   "source": [
    "# 尝试将corpus(bow形式) 转化成tf-idf形式\n",
    "tfidf_model = models.TfidfModel(corpus) # step 1 -- initialize a model 将文档由按照词频表示 转变为按照tf-idf格式表示"
   ]
  },
  {
   "cell_type": "code",
   "execution_count": 7,
   "metadata": {
    "scrolled": true
   },
   "outputs": [
    {
     "name": "stdout",
     "output_type": "stream",
     "text": [
      "[[(0, 0.4301019571350565),\n",
      "  (1, 0.4301019571350565),\n",
      "  (2, 0.2944198962221451),\n",
      "  (3, 0.2944198962221451),\n",
      "  (4, 0.2944198962221451),\n",
      "  (5, 0.4301019571350565),\n",
      "  (6, 0.4301019571350565)],\n",
      " [(2, 0.3726494271826947),\n",
      "  (7, 0.5443832091958983),\n",
      "  (8, 0.3726494271826947),\n",
      "  (9, 0.3726494271826947),\n",
      "  (10, 0.27219160459794917),\n",
      "  (11, 0.3726494271826947),\n",
      "  (12, 0.27219160459794917)],\n",
      " [(4, 0.438482464916089),\n",
      "  (10, 0.32027755044706185),\n",
      "  (12, 0.32027755044706185),\n",
      "  (13, 0.438482464916089),\n",
      "  (14, 0.6405551008941237)],\n",
      " [(3, 0.3449874408519962),\n",
      "  (10, 0.5039733231394895),\n",
      "  (13, 0.3449874408519962),\n",
      "  (15, 0.5039733231394895),\n",
      "  (16, 0.5039733231394895)],\n",
      " [(8, 0.30055933182961736),\n",
      "  (11, 0.30055933182961736),\n",
      "  (12, 0.21953536176370683),\n",
      "  (17, 0.43907072352741366),\n",
      "  (18, 0.43907072352741366),\n",
      "  (19, 0.43907072352741366),\n",
      "  (20, 0.43907072352741366)],\n",
      " [(21, 0.48507125007266594),\n",
      "  (22, 0.48507125007266594),\n",
      "  (23, 0.48507125007266594),\n",
      "  (24, 0.24253562503633297),\n",
      "  (25, 0.48507125007266594)],\n",
      " [(24, 0.31622776601683794),\n",
      "  (26, 0.31622776601683794),\n",
      "  (27, 0.6324555320336759),\n",
      "  (28, 0.6324555320336759)],\n",
      " [(24, 0.20466057569885868),\n",
      "  (26, 0.20466057569885868),\n",
      "  (29, 0.40932115139771735),\n",
      "  (30, 0.2801947048062438),\n",
      "  (31, 0.40932115139771735),\n",
      "  (32, 0.40932115139771735),\n",
      "  (33, 0.40932115139771735),\n",
      "  (34, 0.40932115139771735)],\n",
      " [(9, 0.6282580468670046), (26, 0.45889394536615247), (30, 0.6282580468670046)]]\n",
      "[[(0, 1.0), (1, 1.0), (2, 1.0), (3, 1.0), (4, 1.0), (5, 1.0), (6, 1.0)],\n",
      " [(2, 1.0), (7, 1.0), (8, 1.0), (9, 1.0), (10, 1.0), (11, 1.0), (12, 1.0)],\n",
      " [(4, 1.0), (10, 1.0), (12, 1.0), (13, 1.0), (14, 1.0)],\n",
      " [(3, 1.0), (10, 2.0), (13, 1.0), (15, 1.0), (16, 1.0)],\n",
      " [(8, 1.0), (11, 1.0), (12, 1.0), (17, 1.0), (18, 1.0), (19, 1.0), (20, 1.0)],\n",
      " [(21, 1.0), (22, 1.0), (23, 1.0), (24, 1.0), (25, 1.0)],\n",
      " [(24, 1.0), (26, 1.0), (27, 1.0), (28, 1.0)],\n",
      " [(24, 1.0),\n",
      "  (26, 1.0),\n",
      "  (29, 1.0),\n",
      "  (30, 1.0),\n",
      "  (31, 1.0),\n",
      "  (32, 1.0),\n",
      "  (33, 1.0),\n",
      "  (34, 1.0)],\n",
      " [(9, 1.0), (26, 1.0), (30, 1.0)]]\n"
     ]
    }
   ],
   "source": [
    "# 将整个corpus转为tf-idf格式\n",
    "corpus_tfidf = tfidf_model[corpus]\n",
    "pprint(list(corpus_tfidf))\n",
    "pprint(list(corpus))"
   ]
  },
  {
   "cell_type": "markdown",
   "metadata": {},
   "source": [
    "## LSI 训练"
   ]
  },
  {
   "cell_type": "code",
   "execution_count": 139,
   "metadata": {},
   "outputs": [
    {
     "data": {
      "image/png": "[encoded data removed]",
      "text/plain": [
       "<Figure size 432x288 with 1 Axes>"
      ]
     },
     "metadata": {
      "needs_background": "light"
     },
     "output_type": "display_data"
    }
   ],
   "source": [
    "# 转化为lsi模型, 可用作聚类或分类\n",
    "lsi_model = models.LsiModel(corpus_tfidf, id2word=dictionary, num_topics=5)\n",
    "corpus_lsi = lsi_model[corpus_tfidf]\n",
    "Show2dCorpora(corpus_lsi)"
   ]
  },
  {
   "cell_type": "code",
   "execution_count": 140,
   "metadata": {
    "collapsed": true
   },
   "outputs": [
    {
     "name": "stdout",
     "output_type": "stream",
     "text": [
      "[[(0, 0.3405711798684182),\n",
      "  (1, -0.20602251622679726),\n",
      "  (2, 0.2516322932612175),\n",
      "  (3, -0.06646636031660524),\n",
      "  (4, 0.8634175502633796)],\n",
      " [(0, 0.6933040002171557),\n",
      "  (1, 0.007232758390387371),\n",
      "  (2, -0.42828031011610496),\n",
      "  (3, 0.009221456247179474),\n",
      "  (4, 0.07245540476224699)],\n",
      " [(0, 0.5902607670389719),\n",
      "  (1, -0.35260469490855795),\n",
      "  (2, 0.3088320925810749),\n",
      "  (3, 0.015857166285257046),\n",
      "  (4, -0.24165669441507717)],\n",
      " [(0, 0.521490182182513),\n",
      "  (1, -0.33887976154055394),\n",
      "  (2, 0.4328304015902546),\n",
      "  (3, -0.03897722688934288),\n",
      "  (4, -0.3336151409993161)],\n",
      " [(0, 0.395331931763544),\n",
      "  (1, -0.059192853366600864),\n",
      "  (2, -0.6817088379096496),\n",
      "  (3, 0.27555804027904607),\n",
      "  (4, -0.053930814779541224)],\n",
      " [(0, 0.036353173528494515),\n",
      "  (1, 0.18146550208819),\n",
      "  (2, 0.20409484571950462),\n",
      "  (3, 0.868444761172718),\n",
      "  (4, 0.08100886500516286)],\n",
      " [(0, 0.14709012328779061),\n",
      "  (1, 0.494329481278223),\n",
      "  (2, 0.25207415523993637),\n",
      "  (3, 0.2575886501115412),\n",
      "  (4, -0.04099410336036502)],\n",
      " [(0, 0.21407117317565483),\n",
      "  (1, 0.6406456664453938),\n",
      "  (2, 0.21254395627262557),\n",
      "  (3, -0.16107830262205708),\n",
      "  (4, -0.04465113586188506)],\n",
      " [(0, 0.4006656831817089),\n",
      "  (1, 0.6413108299093989),\n",
      "  (2, -0.043113010529972184),\n",
      "  (3, -0.29127652603555365),\n",
      "  (4, 0.01570567077085973)]]\n"
     ]
    },
    {
     "data": {
      "text/plain": [
       "[(0,\n",
       "  '0.400*\"system\" + 0.318*\"survey\" + 0.290*\"user\" + 0.274*\"eps\" + 0.236*\"management\" + 0.236*\"opinion\" + 0.235*\"time\" + 0.235*\"response\" + 0.224*\"interface\" + 0.224*\"computer\"'),\n",
       " (1,\n",
       "  '0.421*\"minors\" + 0.420*\"graph\" + 0.293*\"survey\" + 0.239*\"trees\" + 0.226*\"intersection\" + 0.226*\"paths\" + -0.204*\"system\" + -0.196*\"eps\" + 0.189*\"quasi\" + 0.189*\"iv\"')]"
      ]
     },
     "execution_count": 140,
     "metadata": {},
     "output_type": "execute_result"
    }
   ],
   "source": [
    "nodes = list(corpus_lsi)\n",
    "pprint(nodes)\n",
    "lsi_model.print_topics(2) # 打印各topic的含义"
   ]
  },
  {
   "cell_type": "code",
   "execution_count": 136,
   "metadata": {},
   "outputs": [],
   "source": [
    "lsi_model.save('output/model.lsi') # same for tfidf, lda, ...\n",
    "lsi_model = models.LsiModel.load('output/model.lsi')"
   ]
  },
  {
   "cell_type": "markdown",
   "metadata": {},
   "source": [
    "## LDA 模型"
   ]
  },
  {
   "cell_type": "code",
   "execution_count": 141,
   "metadata": {},
   "outputs": [
    {
     "data": {
      "image/png": "[encoded data removed]",
      "text/plain": [
       "<Figure size 432x288 with 1 Axes>"
      ]
     },
     "metadata": {
      "needs_background": "light"
     },
     "output_type": "display_data"
    }
   ],
   "source": [
    "lda_model = models.LdaModel(corpus_tfidf, id2word=dictionary, num_topics=5)\n",
    "corpus_lda = lda_model[corpus_tfidf]\n",
    "Show2dCorpora(corpus_lda)"
   ]
  },
  {
   "cell_type": "code",
   "execution_count": 143,
   "metadata": {
    "collapsed": true
   },
   "outputs": [
    {
     "name": "stdout",
     "output_type": "stream",
     "text": [
      "[[(0, 0.055555355),\n",
      "  (1, 0.05577199),\n",
      "  (2, 0.055571437),\n",
      "  (3, 0.05554118),\n",
      "  (4, 0.77756)],\n",
      " [(0, 0.055928905),\n",
      "  (1, 0.05658192),\n",
      "  (2, 0.055944256),\n",
      "  (3, 0.05637846),\n",
      "  (4, 0.77516645)],\n",
      " [(0, 0.06337499),\n",
      "  (1, 0.063884094),\n",
      "  (2, 0.06338804),\n",
      "  (3, 0.06343938),\n",
      "  (4, 0.7459135)],\n",
      " [(0, 0.062526),\n",
      "  (1, 0.74873877),\n",
      "  (2, 0.06254443),\n",
      "  (3, 0.06251015),\n",
      "  (4, 0.063680656)],\n",
      " [(0, 0.055974975),\n",
      "  (1, 0.055953037),\n",
      "  (2, 0.055992078),\n",
      "  (3, 0.7751799),\n",
      "  (4, 0.05690002)],\n",
      " [(0, 0.06330396),\n",
      "  (1, 0.06300176),\n",
      "  (2, 0.06290872),\n",
      "  (3, 0.74791425),\n",
      "  (4, 0.06287134)],\n",
      " [(0, 0.72279567),\n",
      "  (1, 0.06984144),\n",
      "  (2, 0.06908332),\n",
      "  (3, 0.069224946),\n",
      "  (4, 0.06905461)],\n",
      " [(0, 0.054009907),\n",
      "  (1, 0.7850806),\n",
      "  (2, 0.053606093),\n",
      "  (3, 0.05373627),\n",
      "  (4, 0.053567104)],\n",
      " [(0, 0.07400992),\n",
      "  (1, 0.7045425),\n",
      "  (2, 0.07370488),\n",
      "  (3, 0.07368365),\n",
      "  (4, 0.07405905)]]\n"
     ]
    },
    {
     "data": {
      "text/plain": [
       "[(1,\n",
       "  '0.081*\"minors\" + 0.063*\"graph\" + 0.060*\"survey\" + 0.051*\"system\" + 0.051*\"testing\" + 0.051*\"engineering\" + 0.045*\"quasi\" + 0.044*\"ordering\" + 0.044*\"well\" + 0.044*\"iv\"'),\n",
       " (4,\n",
       "  '0.065*\"interface\" + 0.060*\"computer\" + 0.058*\"management\" + 0.055*\"user\" + 0.055*\"system\" + 0.052*\"opinion\" + 0.044*\"eps\" + 0.044*\"lab\" + 0.044*\"applications\" + 0.044*\"abc\"')]"
      ]
     },
     "execution_count": 143,
     "metadata": {},
     "output_type": "execute_result"
    }
   ],
   "source": [
    "nodes = list(corpus_lda)\n",
    "pprint(nodes)\n",
    "lda_model.print_topics(2) # 打印各topic的含义"
   ]
  },
  {
   "cell_type": "code",
   "execution_count": 144,
   "metadata": {},
   "outputs": [],
   "source": [
    "lda_model.save('output/model.lda') # same for tfidf, lda, ...\n",
    "lda_model = models.LdaModel.load('output/model.lda')"
   ]
  },
  {
   "cell_type": "markdown",
   "metadata": {},
   "source": [
    "## TF-idf 和 LSI or LDA 的合并"
   ]
  },
  {
   "cell_type": "markdown",
   "metadata": {},
   "source": [
    "- 要从gensim创建文档术语矩阵，可以使用matutils.corpus2csv\n",
    "- csc_matrix() : 转换为稀疏/密集矩阵;\n"
   ]
  },
  {
   "cell_type": "code",
   "execution_count": 47,
   "metadata": {
    "scrolled": true
   },
   "outputs": [],
   "source": [
    "from scipy.sparse import csc_matrix\n",
    "from gensim import matutils"
   ]
  },
  {
   "cell_type": "markdown",
   "metadata": {},
   "source": [
    "### TF-idf 格式转化"
   ]
  },
  {
   "cell_type": "code",
   "execution_count": 148,
   "metadata": {},
   "outputs": [],
   "source": [
    "tfidf_scipy_csc_matrix =matutils.corpus2csc(corpus_tfidf)\n",
    "tfidf_matrix=csc_matrix(tfidf_scipy_csc_matrix).toarray().T     "
   ]
  },
  {
   "cell_type": "code",
   "execution_count": 149,
   "metadata": {
    "scrolled": true
   },
   "outputs": [
    {
     "data": {
      "text/plain": [
       "(9, 35)"
      ]
     },
     "execution_count": 149,
     "metadata": {},
     "output_type": "execute_result"
    }
   ],
   "source": [
    "tfidf_matrix.shape"
   ]
  },
  {
   "cell_type": "markdown",
   "metadata": {},
   "source": [
    "### LSI 格式转化"
   ]
  },
  {
   "cell_type": "code",
   "execution_count": 150,
   "metadata": {},
   "outputs": [],
   "source": [
    "lsi_scipy_csc_matrix =matutils.corpus2csc(corpus_lsi)\n",
    "lsi_matrix=csc_matrix(lsi_scipy_csc_matrix).toarray().T"
   ]
  },
  {
   "cell_type": "code",
   "execution_count": 151,
   "metadata": {},
   "outputs": [
    {
     "data": {
      "text/plain": [
       "(9, 5)"
      ]
     },
     "execution_count": 151,
     "metadata": {},
     "output_type": "execute_result"
    }
   ],
   "source": [
    "lsi_matrix.shape"
   ]
  },
  {
   "cell_type": "markdown",
   "metadata": {},
   "source": [
    "### LDA 格式 转化"
   ]
  },
  {
   "cell_type": "code",
   "execution_count": 152,
   "metadata": {},
   "outputs": [],
   "source": [
    "lda_scipy_csc_matrix =matutils.corpus2csc(corpus_lda)\n",
    "lda_matrix=csc_matrix(lda_scipy_csc_matrix).toarray().T"
   ]
  },
  {
   "cell_type": "code",
   "execution_count": 153,
   "metadata": {},
   "outputs": [
    {
     "data": {
      "text/plain": [
       "(9, 5)"
      ]
     },
     "execution_count": 153,
     "metadata": {},
     "output_type": "execute_result"
    }
   ],
   "source": [
    "lda_matrix.shape"
   ]
  },
  {
   "cell_type": "markdown",
   "metadata": {},
   "source": [
    "### 合并"
   ]
  },
  {
   "cell_type": "markdown",
   "metadata": {},
   "source": [
    "#### TF-idf 和 LSI 合并"
   ]
  },
  {
   "cell_type": "code",
   "execution_count": 154,
   "metadata": {},
   "outputs": [
    {
     "data": {
      "text/plain": [
       "(9, 40)"
      ]
     },
     "execution_count": 154,
     "metadata": {},
     "output_type": "execute_result"
    }
   ],
   "source": [
    "tfidf_lsi_matrix = np.concatenate((tfidf_matrix,lsi_matrix),axis=1)\n",
    "tfidf_lsi_matrix.shape"
   ]
  },
  {
   "cell_type": "markdown",
   "metadata": {},
   "source": [
    "#### TF-idf 和 LDA 合并"
   ]
  },
  {
   "cell_type": "code",
   "execution_count": 157,
   "metadata": {},
   "outputs": [
    {
     "data": {
      "text/plain": [
       "(9, 40)"
      ]
     },
     "execution_count": 157,
     "metadata": {},
     "output_type": "execute_result"
    }
   ],
   "source": [
    "tfidf_lda_matrix = np.concatenate((tfidf_matrix,lda_matrix),axis=1)\n",
    "tfidf_lda_matrix.shape"
   ]
  },
  {
   "cell_type": "markdown",
   "metadata": {},
   "source": [
    "#### TF-idf LSA 和 LDA 合并"
   ]
  },
  {
   "cell_type": "code",
   "execution_count": 158,
   "metadata": {},
   "outputs": [
    {
     "data": {
      "text/plain": [
       "(9, 45)"
      ]
     },
     "execution_count": 158,
     "metadata": {},
     "output_type": "execute_result"
    }
   ],
   "source": [
    "tfidf_lsi_lda_matrix = np.concatenate((tfidf_matrix,lsi_matrix,lda_matrix),axis=1)\n",
    "tfidf_lsi_lda_matrix.shape"
   ]
  },
  {
   "cell_type": "markdown",
   "metadata": {},
   "source": [
    "## 相似度计算"
   ]
  },
  {
   "cell_type": "markdown",
   "metadata": {},
   "source": [
    "这一部分主要负责计算文档间的相似度。与向量的相似度计算方式一样，采用余弦方法计算得到。一般来讲，使用lsi模型得到的向量进行计算效果比较好。\n",
    "\n",
    "```\n",
    "    documents = [\"Human machine interface for lab abc computer applications\",\n",
    "             \"A survey of user opinion of computer system response time\",\n",
    "             \"The EPS user interface management system\",\n",
    "             \"System and human system engineering testing of EPS\",\n",
    "             \"Relation of user perceived response time to error measurement\",\n",
    "             \"The generation of random binary unordered trees\",\n",
    "             \"The intersection graph of paths in trees\",\n",
    "             \"Graph minors IV Widths of trees and well quasi ordering\",\n",
    "             \"Graph minors A survey\"]\n",
    "```"
   ]
  },
  {
   "cell_type": "markdown",
   "metadata": {},
   "source": [
    "### 预操作"
   ]
  },
  {
   "cell_type": "code",
   "execution_count": 159,
   "metadata": {},
   "outputs": [],
   "source": [
    "test_text = \"Human machine interface for lab abc computer applications\".lower().split()\n",
    "test_bow = dictionary.doc2bow(test_text)"
   ]
  },
  {
   "cell_type": "code",
   "execution_count": 160,
   "metadata": {},
   "outputs": [
    {
     "name": "stdout",
     "output_type": "stream",
     "text": [
      "[(0, 0.4301019571350565), (1, 0.4301019571350565), (2, 0.2944198962221451), (3, 0.2944198962221451), (4, 0.2944198962221451), (5, 0.4301019571350565), (6, 0.4301019571350565)]\n"
     ]
    }
   ],
   "source": [
    "test_tfidf = tfidf_model[test_bow]\n",
    "print(test_tfidf)"
   ]
  },
  {
   "cell_type": "markdown",
   "metadata": {},
   "source": [
    "### 合并处理"
   ]
  },
  {
   "cell_type": "code",
   "execution_count": 161,
   "metadata": {},
   "outputs": [
    {
     "name": "stdout",
     "output_type": "stream",
     "text": [
      "tfidf:[(0, 1.0), (1, 0.1097154), (2, 0.12909795), (3, 0.101571165), (4, 0.0), (5, 0.0), (6, 0.0), (7, 0.0), (8, 0.0)]\n",
      "lsi:[(0, 0.998849), (1, 0.2594146), (2, 0.22752088), (3, 0.13108018), (4, -0.09498772), (5, 0.040945835), (6, -0.064940125), (7, -0.04621652), (8, 0.0376087)]\n",
      "lda:[(0, 0.996266), (1, 0.9960959), (2, 0.993614), (3, 0.11813167), (4, 0.10596235), (5, 0.11707874), (6, 0.12881944), (7, 0.10078776), (8, 0.13856158)]\n"
     ]
    }
   ],
   "source": [
    "model_list = [tfidf_model,lsi_model,lda_model]\n",
    "model_name = ['tfidf','lsi','lda']\n",
    "corpus_list = [corpus_tfidf,corpus_lsi,corpus_lda]\n",
    "test_res_dict = {}\n",
    "for i in range(len(model_name)):\n",
    "    test = model_list[i][test_bow]\n",
    "    test_corpus_simi_matrix = similarities.MatrixSimilarity(corpus_list[i])\n",
    "    test_simi = test_corpus_simi_matrix[test]\n",
    "    test_res_dict[model_name[i]] = list(enumerate(test_simi))\n",
    "    print(f\"{model_name[i]}:{test_res_dict[model_name[i]]}\")\n"
   ]
  },
  {
   "cell_type": "markdown",
   "metadata": {
    "heading_collapsed": true
   },
   "source": [
    "### 分模块处理"
   ]
  },
  {
   "cell_type": "markdown",
   "metadata": {
    "hidden": true
   },
   "source": [
    "#### TF-idf 计算相似度"
   ]
  },
  {
   "cell_type": "code",
   "execution_count": 126,
   "metadata": {
    "hidden": true
   },
   "outputs": [],
   "source": [
    "test_tfidf_corpus_simi_matrix = similarities.MatrixSimilarity(corpus_tfidf)\n",
    "test_tfidf_simi = test_tfidf_corpus_simi_matrix[test_tfidf]\n",
    "test_tfidf_simi_list = list(enumerate(test_tfidf_simi))"
   ]
  },
  {
   "cell_type": "markdown",
   "metadata": {
    "hidden": true
   },
   "source": [
    "#### LSI 计算相似度"
   ]
  },
  {
   "cell_type": "code",
   "execution_count": 127,
   "metadata": {
    "hidden": true
   },
   "outputs": [],
   "source": [
    "test_lsi = lsi_model[test_bow]\n",
    "test_lsi_corpus_simi_matrix = similarities.MatrixSimilarity(corpus_lsi)\n",
    "test_lsi_simi = test_lsi_corpus_simi_matrix[test_lsi]\n",
    "test_lsi_simi_list = list(enumerate(test_lsi_simi))"
   ]
  },
  {
   "cell_type": "markdown",
   "metadata": {
    "hidden": true
   },
   "source": [
    "#### LDA 计算相似度"
   ]
  },
  {
   "cell_type": "code",
   "execution_count": 128,
   "metadata": {
    "hidden": true
   },
   "outputs": [],
   "source": [
    "test_lda = lda_model[test_bow]\n",
    "test_lda_corpus_simi_matrix = similarities.MatrixSimilarity(corpus_lda)\n",
    "test_lda_simi = test_lda_corpus_simi_matrix[test_lda]\n",
    "test_lda_simi_list = list(enumerate(test_lda_simi))"
   ]
  },
  {
   "cell_type": "markdown",
   "metadata": {
    "hidden": true
   },
   "source": [
    "#### 比较 三个方法 的 相似度性能"
   ]
  },
  {
   "cell_type": "code",
   "execution_count": 123,
   "metadata": {
    "hidden": true
   },
   "outputs": [
    {
     "name": "stdout",
     "output_type": "stream",
     "text": [
      "tfidf:[(0, 0.0), (1, 0.19246854), (2, 0.22647041), (3, 0.35636294), (4, 0.0), (5, 0.0), (6, 0.2236068), (7, 0.14471687), (8, 0.32448703)]\n",
      "lsi:[(0, 0.61618114), (1, 0.93853277), (2, 0.6205461), (3, 0.5904914), (4, 0.8720119), (5, 0.53168356), (6, 0.60684514), (7, 0.63295007), (8, 0.7963887)]\n",
      "lda:[(0, 0.5401466), (1, 0.99867314), (2, 0.62583184), (3, 0.7585788), (4, 0.9980239), (5, 0.5421643), (6, 0.9514648), (7, 0.98816395), (8, 0.99786574)]\n"
     ]
    }
   ],
   "source": [
    "print(f\"tfidf:{test_tfidf_simi_list}\")\n",
    "print(f\"lsi:{test_lsi_simi_list}\")\n",
    "print(f\"lda:{test_lda_simi_list}\")"
   ]
  },
  {
   "cell_type": "code",
   "execution_count": null,
   "metadata": {
    "hidden": true
   },
   "outputs": [],
   "source": []
  },
  {
   "cell_type": "code",
   "execution_count": null,
   "metadata": {
    "hidden": true
   },
   "outputs": [],
   "source": []
  },
  {
   "cell_type": "code",
   "execution_count": null,
   "metadata": {
    "hidden": true
   },
   "outputs": [],
   "source": []
  },
  {
   "cell_type": "code",
   "execution_count": null,
   "metadata": {
    "hidden": true
   },
   "outputs": [],
   "source": []
  },
  {
   "cell_type": "code",
   "execution_count": null,
   "metadata": {
    "hidden": true
   },
   "outputs": [],
   "source": []
  },
  {
   "cell_type": "markdown",
   "metadata": {},
   "source": [
    "## 参考资料"
   ]
  },
  {
   "cell_type": "markdown",
   "metadata": {},
   "source": [
    "1. [gensim使用方法以及例子](https://blog.csdn.net/u014595019/article/details/52218249)\n",
    "2. [gensim测试文本相似度](https://www.jianshu.com/p/a8513c7b4b82)"
   ]
  },
  {
   "cell_type": "code",
   "execution_count": null,
   "metadata": {},
   "outputs": [],
   "source": []
  }
 ],
 "metadata": {
  "hide_input": false,
  "kernelspec": {
   "display_name": "Python 3",
   "language": "python",
   "name": "python3"
  },
  "language_info": {
   "codemirror_mode": {
    "name": "ipython",
    "version": 3
   },
   "file_extension": ".py",
   "mimetype": "text/x-python",
   "name": "python",
   "nbconvert_exporter": "python",
   "pygments_lexer": "ipython3",
   "version": "3.7.0"
  },
  "toc": {
   "base_numbering": 1,
   "nav_menu": {},
   "number_sections": true,
   "sideBar": true,
   "skip_h1_title": false,
   "title_cell": "Table of Contents",
   "title_sidebar": "Contents",
   "toc_cell": false,
   "toc_position": {},
   "toc_section_display": true,
   "toc_window_display": false
  }
 },
 "nbformat": 4,
 "nbformat_minor": 2
}
