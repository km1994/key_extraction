{
 "cells": [
  {
   "cell_type": "markdown",
   "metadata": {},
   "source": [
    "# 利用 Bert 计算 相似度"
   ]
  },
  {
   "cell_type": "markdown",
   "metadata": {},
   "source": [
    "## 启动服务"
   ]
  },
  {
   "cell_type": "code",
   "execution_count": null,
   "metadata": {},
   "outputs": [],
   "source": [
    "```\n",
    "    PS D:\\project\\python_wp\\nlp\\data\\chinese_wwm_ext_L-12_H-768_A-12> bert-serving-start -model_dir ./ -num_worker=2\n",
    "```"
   ]
  },
  {
   "cell_type": "markdown",
   "metadata": {},
   "source": [
    "## 导入库"
   ]
  },
  {
   "cell_type": "code",
   "execution_count": 2,
   "metadata": {},
   "outputs": [],
   "source": [
    "import os\n",
    "from gensim import corpora, models, similarities\n",
    "from pprint import pprint\n",
    "from matplotlib import pyplot as plt\n",
    "import jieba\n",
    "import numpy as np\n",
    "jieba.load_userdict(\"../../data/dict.txt\")\n",
    "np.random.seed(1) # 设置随即种子数，以便相同的设置能跑出相同的结果，可复现\n",
    "from bert_serving.client import BertClient\n",
    "bc = BertClient()"
   ]
  },
  {
   "cell_type": "markdown",
   "metadata": {},
   "source": [
    "## 函数编写"
   ]
  },
  {
   "cell_type": "code",
   "execution_count": 20,
   "metadata": {},
   "outputs": [],
   "source": [
    "def cosine(a,b):\n",
    "    return a.dot(b)/(np.linalg.norm(a)*np.linalg.norm(b))"
   ]
  },
  {
   "cell_type": "markdown",
   "metadata": {},
   "source": [
    "## 加载数据"
   ]
  },
  {
   "cell_type": "code",
   "execution_count": 3,
   "metadata": {},
   "outputs": [
    {
     "data": {
      "text/plain": [
       "(120,\n",
       " ['中国大陆方面，股市迎来一波猛涨，站上五年来的最高点。本周，因新冠疫情延期一月的中国高考拉开帷幕，但高考前多起包括冒名顶替在内的舞弊案件引发对公平性的讨论。北京新一轮疫情得到控制，本周首现零新增。同样在北京，知名法学家许章润被警察带走，最近几年他发表多篇文章批评中国当局。',\n",
       "  '香港《国安法》在香港和海外持续发酵。本周BBC中文通过五张图为你详解其中的法律重点，比如相关机构组成和权力分配等。西方国家对香港《国安法》反应强烈，此前英国承诺为香港BNO护照持有者开启移民入籍路径，本周BBC中文采访探讨这一政策是否会导致香港移民潮。本周澳大利亚政府也推出一系列措施，作为回应，包括暂停与香港的引渡协议、更新旅游建议以及为香港居民提供签证便利等。中国则对两国的干涉表示反对，称澳方成天把反对\"外国干涉\"挂在嘴边，却在涉港问题上说三道四，充分暴露了其虚伪性和双重标准。'])"
      ]
     },
     "execution_count": 3,
     "metadata": {},
     "output_type": "execute_result"
    }
   ],
   "source": [
    "doc_path = \"THUCNews/1.txt\"\n",
    "documents = [line.strip().split(\"\\t\")[0] for line in open(doc_path,encoding=\"utf-8\").readlines() ]\n",
    "len(documents),documents[0:2]"
   ]
  },
  {
   "cell_type": "markdown",
   "metadata": {},
   "source": [
    "## 计算相似度"
   ]
  },
  {
   "cell_type": "code",
   "execution_count": 10,
   "metadata": {},
   "outputs": [],
   "source": [
    "from termcolor import colored\n",
    "topk = 10\n",
    "query = \"中国大陆方面，股市迎来一波猛涨，站上五年来的最高点。本周，因新冠疫情延期一月的中国高考拉开帷幕，但高考前多起包括冒名顶替在内的舞弊案件引发对公平性的讨论。北京新一轮疫情得到控制，本周首现零新增。同样在北京，知名法学家许章润被警察带走，最近几年他发表多篇文章批评中国当局。\""
   ]
  },
  {
   "cell_type": "code",
   "execution_count": 23,
   "metadata": {},
   "outputs": [
    {
     "name": "stdout",
     "output_type": "stream",
     "text": [
      "top 10 questions similar to \"\u001b[32m中国大陆方面，股市迎来一波猛涨，站上五年来的最高点。本周，因新冠疫情延期一月的中国高考拉开帷幕，但高考前多起包括冒名顶替在内的舞弊案件引发对公平性的讨论。北京新一轮疫情得到控制，本周首现零新增。同样在北京，知名法学家许章润被警察带走，最近几年他发表多篇文章批评中国当局。\u001b[0m\"\n",
      "> \u001b[36m1.00000\u001b[0m\t0\t\u001b[33m中国大陆方面，股市迎来一波猛涨，站上五年来的最高点。本周，因新冠疫情延期一月的中国高考拉开帷幕，但高考前多起包括冒名顶替在内的舞弊案件引发对公平性的讨论。北京新一轮疫情得到控制，本周首现零新增。同样在北京，知名法学家许章润被警察带走，最近几年他发表多篇文章批评中国当局。\u001b[0m\n",
      "> \u001b[36m0.90828\u001b[0m\t2\t\u001b[33m新冠疫情还没完全消退，中国股市在7月初则迎来一轮暴涨，港股也几乎同步放量上涨。截止本周三（7月8日），中国股市沪深300指数已连续七个交易日上涨。七天内，沪综指连续突破3000点、3100点、3200点、3300点和3400点五个整数关口。创下五年来高位。市场建立起对经济复苏的预期，促使本轮股市上涨。但也有声音认为，目前经济状况并不支持这种程度的暴涨，恐重蹈2015年“股灾”覆辙。本周BBC也报道了疫情影响下面临困境的中国底层农民工和大学毕业生。\u001b[0m\n",
      "> \u001b[36m0.86305\u001b[0m\t1\t\u001b[33m香港《国安法》在香港和海外持续发酵。本周BBC中文通过五张图为你详解其中的法律重点，比如相关机构组成和权力分配等。西方国家对香港《国安法》反应强烈，此前英国承诺为香港BNO护照持有者开启移民入籍路径，本周BBC中文采访探讨这一政策是否会导致香港移民潮。本周澳大利亚政府也推出一系列措施，作为回应，包括暂停与香港的引渡协议、更新旅游建议以及为香港居民提供签证便利等。中国则对两国的干涉表示反对，称澳方成天把反对\"外国干涉\"挂在嘴边，却在涉港问题上说三道四，充分暴露了其虚伪性和双重标准。\u001b[0m\n",
      "> \u001b[36m0.85480\u001b[0m\t47\t\u001b[33m据普帕尔表示，中国电信巨擘不会遭到“完全禁用”，但采用华为的法国电信业者将会有最长8年的授权许可。“不采用华为的电信业者，我们鼓励他们不要这么做。至于已经使用的，我们会核发3年至8年的授权许可”。\u001b[0m\n",
      "> \u001b[36m0.85287\u001b[0m\t71\t\u001b[33m7月1日，印度和中国完成第三轮军长级会谈，虽然有新闻报道，双方还在不断向边境增兵，以应对冲突升级，但像6月15日那样的冲突终归还未发生，双方缓和的迹象开始出现。\u001b[0m\n",
      "> \u001b[36m0.85172\u001b[0m\t21\t\u001b[33m日本未因疫情正式封城，但首相安倍晋三宣布日本进入紧急状态，该状态一直持续到5月31日。人们被要求留在家。尽管如此，希望求诊的人数也有所增加。这一激增促使日本美容医学协会警告说，美容“对许多人来说不是必不可少的”。该协会要求人们远离外科手术，以“防止病毒进一步传播”。福冈“福乐”（Bliss）诊所的临床协调员米歇尔·塔吉里（Michelle Tajiri）说：“作为一家提供当日完结手术的门诊型整形诊所，我们看到疫情期间希望进行治疗的患者涌入。”“主要原因是他们下班了，休息时间不是问题，而且每个人都戴口罩，因此可以轻易掩盖任何面部手术的痕迹。”埃尔南德斯而言，选择疫情期间做手术的时机恰到好处。“这肯定让我有更多时间恢复。我能做药物治疗，如果我开车的话就不行。而且我能给嘴唇和脸部做更多冰敷。”\u001b[0m\n",
      "> \u001b[36m0.85134\u001b[0m\t119\t\u001b[33m在国内，小米打造的智能家居生态链在经历了几年的积累后，已经形成了一套自研、自产、自销的完整体系，接入生态链的硬件已经高达6000万台。另外，以美的、海尔、格力为代表的传统家电企业依托本身庞大的产品线及市场占有率，也在积极向智能家居转型，推进自己的智能战略。\u001b[0m\n",
      "> \u001b[36m0.84987\u001b[0m\t63\t\u001b[33m在美国政府持续施压之下，曾向华为开绿灯的欧洲国家本周相继改弦易辙。继英国和法国收紧对这家中国电信设备巨头的政策后，意大利据传也将把华为排除在5G网络建设之外。受访学者指出，华为今后可能只在欧美国家销售专利，而把5G设备市场集中在发展中国家。路透社前晚（9日）引述消息人士说法称，意大利电信集团将华为排除在集团准备在意大利和巴西建设的核心5G网络设备招标之外，这类网络负责处理敏感数据。意大利《共和国报》本周三（8日）也披露，该国政府正考虑是否禁止华为参加国内5G网络建设，这一消息尚未得到意大利政府证实。华为前天发声明称，意大利数码化的安全和发展应以事实为基础，而不是基于“毫无根据的指控”。在此之前，英国对华为的态度已率先转变。英国首相鲍里斯·约翰逊今年1月还有条件地允许运营商使用华为设备构建5G网络，但上周改口称，不希望重要基建受制于潜在敌对国家的供应商。据《每日电讯报》消息，英国官员计划在六个月内停止在国内5G网络中安装华为设备，并加速移除已安装的华为设备。\u001b[0m\n",
      "> \u001b[36m0.84583\u001b[0m\t72\t\u001b[33m但与此同时，印度对中国在其他方面的抗拒措施并没有减弱：印度不允许中国企业参与其高速公路建设，也不让中国人在印投资中小企业。印度政府还以国家安全名义，禁止了59款中国应用；印度总理莫迪甚至还删除了自己的微博账号等。\u001b[0m\n",
      "> \u001b[36m0.84412\u001b[0m\t48\t\u001b[33m这个决定不仅来自于产业考量，更受到华盛顿与北京长期外交紧张关係的影响。美国向其盟友施压， 希望他们以安全为由禁止疑似与中国政府关系密切的华为。\u001b[0m\n"
     ]
    }
   ],
   "source": [
    "with BertClient(port=5555, port_out=5556) as bc:      # 获取句子向量编码   \n",
    "    query_vec = bc.encode([query])[0]\n",
    "    doc_vecs = bc.encode(documents) \n",
    "    # 余弦相似度 分数计算。         \n",
    "    # np.linalg.norm 是求取向量的二范数，也就是向量长度。\n",
    "    score_list = []\n",
    "    for doc_vec in doc_vecs:\n",
    "        score_list.append(cosine(query_vec, doc_vec) )\n",
    "    '''         \t\t\n",
    "    argsort()函数是将x中的元素从小到大排列，提取其对应的index(索引)                     \n",
    "    [::-1]取从后向前（相反）的元素, 例如[ 1 2 3 4 5 ]            \n",
    "    则输出为[ 5 4 3 2 1 ]         \n",
    "    '''         \n",
    "    topk_idx = np.argsort(score_list)[::-1][:topk]         \n",
    "    print('top %d questions similar to \"%s\"' % (topk, colored(query, 'green')))         \n",
    "    for idx in topk_idx:             \n",
    "        print('> %s\\t%s\\t%s' % (colored('%.5f' % score_list[idx], 'cyan'),idx, colored(documents[idx], 'yellow')))"
   ]
  },
  {
   "cell_type": "code",
   "execution_count": null,
   "metadata": {},
   "outputs": [],
   "source": []
  }
 ],
 "metadata": {
  "hide_input": false,
  "kernelspec": {
   "display_name": "Python 3",
   "language": "python",
   "name": "python3"
  },
  "language_info": {
   "codemirror_mode": {
    "name": "ipython",
    "version": 3
   },
   "file_extension": ".py",
   "mimetype": "text/x-python",
   "name": "python",
   "nbconvert_exporter": "python",
   "pygments_lexer": "ipython3",
   "version": "3.7.0"
  },
  "toc": {
   "base_numbering": 1,
   "nav_menu": {},
   "number_sections": true,
   "sideBar": true,
   "skip_h1_title": false,
   "title_cell": "Table of Contents",
   "title_sidebar": "Contents",
   "toc_cell": false,
   "toc_position": {},
   "toc_section_display": true,
   "toc_window_display": false
  }
 },
 "nbformat": 4,
 "nbformat_minor": 2
}
