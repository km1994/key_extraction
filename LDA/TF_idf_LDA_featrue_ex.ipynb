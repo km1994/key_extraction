{
 "cells": [
  {
   "cell_type": "markdown",
   "metadata": {},
   "source": [
    "# 利用 TF-idf 和 LDA 进行 特征 提取"
   ]
  },
  {
   "cell_type": "code",
   "execution_count": 32,
   "metadata": {},
   "outputs": [],
   "source": [
    "import gensim\n",
    "from sklearn.datasets import fetch_20newsgroups\n",
    "from gensim.utils import simple_preprocess\n",
    "from gensim.parsing.preprocessing import STOPWORDS\n",
    "from gensim.corpora import Dictionary\n",
    "import os\n",
    "from pprint import pprint\n",
    "import numpy as np\n",
    "from matplotlib import pyplot as plt\n",
    "from gensim import corpora, models, similarities"
   ]
  },
  {
   "cell_type": "markdown",
   "metadata": {
    "heading_collapsed": true
   },
   "source": [
    "## 准备数据用于训练和测试"
   ]
  },
  {
   "cell_type": "code",
   "execution_count": 2,
   "metadata": {
    "hidden": true
   },
   "outputs": [
    {
     "name": "stdout",
     "output_type": "stream",
     "text": [
      "In the dataset there are 18846 textual documents\n",
      "And this is the first one:\n",
      " \n",
      "\n",
      "I am sure some bashers of Pens fans are pretty confused about the lack\n",
      "of any kind of posts about the recent Pens massacre of the Devils. Actually,\n",
      "I am  bit puzzled too and a bit relieved. However, I am going to put an end\n",
      "to non-PIttsburghers' relief with a bit of praise for the Pens. Man, they\n",
      "are killing those Devils worse than I thought. Jagr just showed you why\n",
      "he is much better than his regular season stats. He is also a lot\n",
      "fo fun to watch in the playoffs. Bowman should let JAgr have a lot of\n",
      "fun in the next couple of games since the Pens are going to beat the pulp out of Jersey anyway. I was very disappointed not to see the Islanders lose the final\n",
      "regular season game.          PENS RULE!!!\n",
      "\n",
      "\n"
     ]
    }
   ],
   "source": [
    "news_dataset = fetch_20newsgroups(subset='all', remove=('headers', 'footers', 'quotes'))\n",
    "documents = news_dataset.data\n",
    "print(\"In the dataset there are\", len(documents), \"textual documents\")\n",
    "print(\"And this is the first one:\\n\", documents[0])\n"
   ]
  },
  {
   "cell_type": "markdown",
   "metadata": {},
   "source": [
    "## 预处理"
   ]
  },
  {
   "cell_type": "markdown",
   "metadata": {},
   "source": [
    "### 分词，去掉停等词"
   ]
  },
  {
   "cell_type": "code",
   "execution_count": 3,
   "metadata": {},
   "outputs": [
    {
     "name": "stdout",
     "output_type": "stream",
     "text": [
      "After the tokenizer, the previous document becomes:\n",
      " ['sure', 'bashers', 'pens', 'fans', 'pretty', 'confused', 'lack', 'kind', 'posts', 'recent', 'pens', 'massacre', 'devils', 'actually', 'bit', 'puzzled', 'bit', 'relieved', 'going', 'end', 'non', 'pittsburghers', 'relief', 'bit', 'praise', 'pens', 'man', 'killing', 'devils', 'worse', 'thought', 'jagr', 'showed', 'better', 'regular', 'season', 'stats', 'lot', 'fo', 'fun', 'watch', 'playoffs', 'bowman', 'let', 'jagr', 'lot', 'fun', 'couple', 'games', 'pens', 'going', 'beat', 'pulp', 'jersey', 'disappointed', 'islanders', 'lose', 'final', 'regular', 'season', 'game', 'pens', 'rule']\n"
     ]
    }
   ],
   "source": [
    "def tokenize(text):\n",
    "    return [token for token in simple_preprocess(text) if token not in STOPWORDS]   \n",
    "print(\"After the tokenizer, the previous document becomes:\\n\", tokenize(documents[0]))\n",
    "processed_docs = [tokenize(doc) for doc in documents]\n"
   ]
  },
  {
   "cell_type": "markdown",
   "metadata": {},
   "source": [
    "### 字典化"
   ]
  },
  {
   "cell_type": "code",
   "execution_count": 4,
   "metadata": {},
   "outputs": [],
   "source": [
    "#每一个单词关联一个唯一的ID\n",
    "word_count_dict = Dictionary(processed_docs)"
   ]
  },
  {
   "cell_type": "markdown",
   "metadata": {},
   "source": [
    "### 对字典中的词进行过滤，去除高频低频次"
   ]
  },
  {
   "cell_type": "markdown",
   "metadata": {},
   "source": [
    "具体使用见\n",
    "\n",
    "https://blog.csdn.net/u014595019/article/details/52218249\n",
    "\n",
    "dictionary.filter_extremes(no_below=5, no_above=0.5, keep_n=100000)\n",
    "\n",
    "1. 去掉出现次数低于no_below的\n",
    "\n",
    "2. 去掉出现次数高于no_above的。注意这个小数指的是百分数\n",
    "\n",
    "3. 在1和2的基础上，保留出现频率前keep_n的单词\n"
   ]
  },
  {
   "cell_type": "code",
   "execution_count": 5,
   "metadata": {},
   "outputs": [
    {
     "name": "stdout",
     "output_type": "stream",
     "text": [
      "The origin is 95506 ,After filtering, in the corpus there are only 21756 unique tokens\n"
     ]
    }
   ],
   "source": [
    "origin_word_count_dict_len = len(word_count_dict)\n",
    "word_count_dict.filter_extremes(no_below=5, no_above=0.05)  \n",
    "print(\"The origin is\",origin_word_count_dict_len,\",After filtering, in the corpus there are only\", len(word_count_dict), \"unique tokens\")"
   ]
  },
  {
   "cell_type": "markdown",
   "metadata": {},
   "source": [
    "### 将文档表示成词袋向量"
   ]
  },
  {
   "cell_type": "code",
   "execution_count": 6,
   "metadata": {},
   "outputs": [
    {
     "name": "stdout",
     "output_type": "stream",
     "text": [
      "[(0, 1), (1, 1), (2, 1), (3, 1), (4, 1), (5, 2), (6, 1), (7, 1), (8, 1), (9, 1), (10, 2), (11, 1), (12, 1), (13, 1), (14, 2), (15, 1), (16, 1), (17, 1), (18, 1), (19, 1), (20, 1), (21, 1), (22, 1), (23, 5), (24, 1), (25, 1), (26, 1), (27, 1), (28, 1), (29, 1), (30, 1), (31, 2), (32, 1), (33, 1), (34, 1), (35, 2), (36, 1), (37, 1), (38, 1), (39, 1), (40, 1)]\n"
     ]
    }
   ],
   "source": [
    "bag_of_words_corpus = [word_count_dict.doc2bow(pdoc) for pdoc in processed_docs]\n",
    "print(bag_of_words_corpus[0])"
   ]
  },
  {
   "cell_type": "markdown",
   "metadata": {},
   "source": [
    "## LDA主题模型"
   ]
  },
  {
   "cell_type": "markdown",
   "metadata": {},
   "source": [
    "具体详见 https://blog.csdn.net/u014595019/article/details/52218249"
   ]
  },
  {
   "cell_type": "markdown",
   "metadata": {},
   "source": [
    "### 训练LDA模型"
   ]
  },
  {
   "cell_type": "code",
   "execution_count": 7,
   "metadata": {},
   "outputs": [
    {
     "name": "stdout",
     "output_type": "stream",
     "text": [
      "loaded from old\n"
     ]
    }
   ],
   "source": [
    "#第一个参数为选用的文档向量，num_topics为主题个数，id2word可选是选用的字典，保存模型，方便下次不用再训练了\n",
    "model_name = \"./output/model.lda\"  \n",
    "if os.path.exists(model_name):\n",
    "    lda_model = gensim.models.LdaModel.load(model_name)  \n",
    "    print(\"loaded from old\")\n",
    "else:\n",
    "    # preprocess()  \n",
    "    lda_model = gensim.models.LdaModel(bag_of_words_corpus, num_topics=80, id2word=word_count_dict)#num_topics: the maximum numbers of topic that can provide  \n",
    "    lda_model.save(model_name)  \n",
    "    print(\"loaded from new\")\n"
   ]
  },
  {
   "cell_type": "code",
   "execution_count": 8,
   "metadata": {},
   "outputs": [
    {
     "name": "stdout",
     "output_type": "stream",
     "text": [
      "n:(49, '0.028*\"excellent\" + 0.014*\"speakers\" + 0.013*\"nf\" + 0.012*\"channel\" + 0.012*\"ohio\" + 0.011*\"dream\" + 0.011*\"s_\" + 0.011*\"movie\" + 0.010*\"stereo\" + 0.009*\"watts\"')\n",
      "n:(71, '0.028*\"evidence\" + 0.018*\"universe\" + 0.016*\"science\" + 0.016*\"atheists\" + 0.015*\"existence\" + 0.012*\"scientific\" + 0.011*\"physical\" + 0.009*\"objective\" + 0.009*\"exists\" + 0.008*\"bush\"')\n",
      "n:(35, '0.021*\"rights\" + 0.018*\"jews\" + 0.017*\"government\" + 0.016*\"state\" + 0.016*\"peace\" + 0.014*\"muslims\" + 0.014*\"human\" + 0.013*\"islamic\" + 0.012*\"minority\" + 0.011*\"ethnic\"')\n",
      "n:(7, '0.018*\"cable\" + 0.015*\"apr\" + 0.012*\"posting\" + 0.010*\"cpsr\" + 0.010*\"network\" + 0.009*\"internet\" + 0.008*\"easter\" + 0.007*\"compuserve\" + 0.007*\"gmt\" + 0.007*\"phone\"')\n",
      "n:(25, '0.041*\"db\" + 0.018*\"bh\" + 0.011*\"noise\" + 0.010*\"gr\" + 0.010*\"cs\" + 0.009*\"michael\" + 0.009*\"band\" + 0.009*\"tex\" + 0.009*\"book\" + 0.009*\"frequency\"')\n"
     ]
    }
   ],
   "source": [
    "#打印前5个主题\n",
    "for n in lda_model.print_topics(5):\n",
    "    print(f\"n:{n}\")"
   ]
  },
  {
   "cell_type": "code",
   "execution_count": 9,
   "metadata": {},
   "outputs": [
    {
     "name": "stdout",
     "output_type": "stream",
     "text": [
      "topic_distribute:[0.03169399 0.5080781  0.39812136 0.0324134 ]\n",
      "第0个文档的前10个主题：\n",
      "[0.5080781  0.39812136 0.0324134  0.03169399]\n"
     ]
    }
   ],
   "source": [
    "doc_topics = lda_model.get_document_topics(bag_of_words_corpus)  # 所有文档的主题分布\n",
    "topic = np.array(doc_topics[1])\n",
    "topic_distribute = np.array(topic[:, 1])\n",
    "print(f\"topic_distribute:{topic_distribute}\")\n",
    "topic_idx = topic_distribute.argsort()[:-10-1:-1]\n",
    "print('第%d个文档的前%d个主题：' % (0, 10))\n",
    "print(topic_distribute[topic_idx])\n"
   ]
  },
  {
   "cell_type": "markdown",
   "metadata": {},
   "source": [
    "### 测试"
   ]
  },
  {
   "cell_type": "markdown",
   "metadata": {},
   "source": [
    "#### 将该文档分词并表示成词袋向量"
   ]
  },
  {
   "cell_type": "code",
   "execution_count": 10,
   "metadata": {},
   "outputs": [],
   "source": [
    "test_dataset=fetch_20newsgroups(subset='test', remove=('headers', 'footers', 'quotes'))\n",
    "test_documents=test_dataset.data[0]\n",
    "test=word_count_dict.doc2bow(tokenize(test_documents))"
   ]
  },
  {
   "cell_type": "markdown",
   "metadata": {},
   "source": [
    "#### 用训练好的lda模型测试该文档"
   ]
  },
  {
   "cell_type": "code",
   "execution_count": 11,
   "metadata": {},
   "outputs": [
    {
     "name": "stdout",
     "output_type": "stream",
     "text": [
      "0.029*\"turkey\" + 0.022*\"ed\"\n",
      "0.051*\"car\" + 0.018*\"average\"\n",
      "0.066*\"window\" + 0.026*\"model\"\n",
      "0.011*\"theory\" + 0.008*\"book\"\n"
     ]
    }
   ],
   "source": [
    "result=lda_model.get_document_topics(test)\n",
    "for topic in result:\n",
    "        #print_topic(x,y) x是主题的id，y是打印该主题的前y个词，词是按权重排好序的\n",
    "    print(lda_model.print_topic(topic[0],2))\n"
   ]
  },
  {
   "cell_type": "markdown",
   "metadata": {},
   "source": [
    "因为主题的权重没有排序，随便输出几个大的，这里希望输出权重前n名的主题及词分布"
   ]
  },
  {
   "cell_type": "code",
   "execution_count": 25,
   "metadata": {},
   "outputs": [],
   "source": [
    "def Show2dCorpora(corpus):\n",
    "    nodes = list(corpus)\n",
    "    ax0 = [x[0] for x in nodes] # 绘制各个doc代表的点\n",
    "    ax1 = [x[1] for x in nodes]\n",
    "    # print(ax0)\n",
    "    # print(ax1)\n",
    "    plt.plot(ax0,ax1,'o')\n",
    "    plt.show()\n"
   ]
  },
  {
   "cell_type": "code",
   "execution_count": 29,
   "metadata": {},
   "outputs": [
    {
     "name": "stdout",
     "output_type": "stream",
     "text": [
      "[(6, 0.033843707), (10, 0.29785144), (21, 0.119427726), (72, 0.50928336)]\n"
     ]
    },
    {
     "data": {
      "image/png": "[encoded data removed]",
      "text/plain": [
       "<Figure size 432x288 with 1 Axes>"
      ]
     },
     "metadata": {
      "needs_background": "light"
     },
     "output_type": "display_data"
    }
   ],
   "source": [
    "##test\n",
    "corpus_lda=lda_model[test]\n",
    "nodes = list(corpus_lda)\n",
    "pprint(nodes)\n",
    "lda_model.print_topics(2) \n",
    "Show2dCorpora(corpus_lda)"
   ]
  },
  {
   "cell_type": "code",
   "execution_count": 30,
   "metadata": {},
   "outputs": [
    {
     "name": "stdout",
     "output_type": "stream",
     "text": [
      "下面是该文档对应主题的词分布\n",
      "0.011*\"theory\" + 0.008*\"book\" 0.508868\n",
      "0.051*\"car\" + 0.018*\"average\" 0.29831952\n",
      "0.066*\"window\" + 0.026*\"model\" 0.11897927\n",
      "0.029*\"turkey\" + 0.022*\"ed\" 0.03423957\n"
     ]
    }
   ],
   "source": [
    "#按照第二个元素从大到小的顺序排列\n",
    "result_sort=sorted(result,key=lambda tup: -1 * tup[1])\n",
    "print(\"下面是该文档对应主题的词分布\")\n",
    "#需要打印出的该文本的前几个主题数\n",
    "topic_num=5\n",
    "count=1\n",
    "for topic in result_sort:\n",
    "    if count>topic_num:\n",
    "        break;\n",
    "    print(lda_model.print_topic(topic[0],2),topic[1])\n",
    "    count=count+1\n"
   ]
  },
  {
   "cell_type": "markdown",
   "metadata": {},
   "source": [
    "## 参考\n",
    "\n",
    "1. [主题提取LDA方法](https://blog.csdn.net/gongdileidechouzhu/article/details/79900702)\n",
    "2. [LDA利用python进行主题分析提取](https://blog.csdn.net/LEE18254290736/article/details/85142895)"
   ]
  }
 ],
 "metadata": {
  "hide_input": false,
  "kernelspec": {
   "display_name": "Python 3",
   "language": "python",
   "name": "python3"
  },
  "language_info": {
   "codemirror_mode": {
    "name": "ipython",
    "version": 3
   },
   "file_extension": ".py",
   "mimetype": "text/x-python",
   "name": "python",
   "nbconvert_exporter": "python",
   "pygments_lexer": "ipython3",
   "version": "3.7.0"
  },
  "toc": {
   "base_numbering": 1,
   "nav_menu": {},
   "number_sections": true,
   "sideBar": true,
   "skip_h1_title": false,
   "title_cell": "Table of Contents",
   "title_sidebar": "Contents",
   "toc_cell": false,
   "toc_position": {},
   "toc_section_display": true,
   "toc_window_display": false
  }
 },
 "nbformat": 4,
 "nbformat_minor": 2
}
