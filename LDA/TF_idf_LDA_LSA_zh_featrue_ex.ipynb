{
 "cells": [
  {
   "cell_type": "markdown",
   "metadata": {},
   "source": [
    "# 利用 TF-idf 、 LDA 、LSA 对 中文文本进行 特征提取"
   ]
  },
  {
   "cell_type": "markdown",
   "metadata": {},
   "source": [
    "## 加载库"
   ]
  },
  {
   "cell_type": "code",
   "execution_count": 42,
   "metadata": {},
   "outputs": [],
   "source": [
    "import os\n",
    "from gensim import corpora, models, similarities\n",
    "from pprint import pprint\n",
    "from matplotlib import pyplot as plt\n",
    "import logging\n",
    "from gensim import corpora\n",
    "from collections import defaultdict\n",
    "import numpy as np \n",
    "import jieba\n",
    "jieba.load_userdict(\"../../data/dict.txt\")\n",
    "from gensim.models import CoherenceModel\n",
    "np.random.seed(1) # 设置随即种子数，以便相同的设置能跑出相同的结果，可复现\n"
   ]
  },
  {
   "cell_type": "markdown",
   "metadata": {},
   "source": [
    "## 变量设置"
   ]
  },
  {
   "cell_type": "code",
   "execution_count": 43,
   "metadata": {
    "code_folding": []
   },
   "outputs": [
    {
     "data": {
      "text/plain": [
       "(120,\n",
       " ['中国大陆方面，股市迎来一波猛涨，站上五年来的最高点。本周，因新冠疫情延期一月的中国高考拉开帷幕，但高考前多起包括冒名顶替在内的舞弊案件引发对公平性的讨论。北京新一轮疫情得到控制，本周首现零新增。同样在北京，知名法学家许章润被警察带走，最近几年他发表多篇文章批评中国当局。',\n",
       "  '香港《国安法》在香港和海外持续发酵。本周BBC中文通过五张图为你详解其中的法律重点，比如相关机构组成和权力分配等。西方国家对香港《国安法》反应强烈，此前英国承诺为香港BNO护照持有者开启移民入籍路径，本周BBC中文采访探讨这一政策是否会导致香港移民潮。本周澳大利亚政府也推出一系列措施，作为回应，包括暂停与香港的引渡协议、更新旅游建议以及为香港居民提供签证便利等。中国则对两国的干涉表示反对，称澳方成天把反对\"外国干涉\"挂在嘴边，却在涉港问题上说三道四，充分暴露了其虚伪性和双重标准。'])"
      ]
     },
     "execution_count": 43,
     "metadata": {},
     "output_type": "execute_result"
    }
   ],
   "source": [
    "doc_path = \"THUCNews/1.txt\"\n",
    "# doc_path = \"../../data/classification/THUCnews/train.txt\"\n",
    "documents = [line.strip().split(\"\\t\")[0] for line in open(doc_path,encoding=\"utf-8\").readlines() ]\n",
    "documents = documents[0:1000]\n",
    "len(documents),documents[0:2]"
   ]
  },
  {
   "cell_type": "markdown",
   "metadata": {},
   "source": [
    "## 编写函数"
   ]
  },
  {
   "cell_type": "code",
   "execution_count": 44,
   "metadata": {
    "code_folding": [
     58,
     77,
     78
    ]
   },
   "outputs": [],
   "source": [
    "def PrintDictionary(dictionary):\n",
    "    token2id = dictionary.token2id\n",
    "    dfs = dictionary.dfs\n",
    "    token_info = {}\n",
    "    for word in token2id:\n",
    "        token_info[word] = dict(\n",
    "            word = word,\n",
    "            id = token2id[word],\n",
    "            freq = dfs[token2id[word]]\n",
    "        )\n",
    "    token_items = token_info.values()\n",
    "    token_items = sorted(token_items, key = lambda x:x['id'])\n",
    "    print('The info of dictionary: ')\n",
    "    pprint(token_items)\n",
    "    print('--------------------------')\n",
    "\n",
    "# 绘图\n",
    "def Show2dCorpora(corpus):\n",
    "    nodes = list(corpus)\n",
    "    ax0 = []\n",
    "    ax1 = []\n",
    "    for x in nodes:\n",
    "#         print(f\"x:{x}\")\n",
    "        try:\n",
    "            ax1.append(x[1][1])\n",
    "            ax0.append(x[0][1])\n",
    "        except Exception:\n",
    "            print(f\"x:{x}\")\n",
    "    # print(ax0)\n",
    "    # print(ax1)\n",
    "    plt.plot(ax0,ax1,'o')\n",
    "    plt.show()\n",
    "    \n",
    "# step1 : 数据分词处理\n",
    "def data_process(documents,stop_word_path='../../data/stop_words.txt',freq=0):\n",
    "    '''\n",
    "        功能：数据分词处理\n",
    "        input:\n",
    "            documents       String List   文档信息 \n",
    "            stop_word_path  String        停用词 路径 \n",
    "            frep:           int           频率\n",
    "        return:  \n",
    "            texts           String List   分词后的 文本\n",
    "    '''\n",
    "    stop_word = [line.strip() for line in open(stop_word_path,encoding=\"utf-8\").readlines() ]\n",
    "    stoplist = list(set(stop_word))\n",
    "    stoplist.append(\" \")\n",
    "    texts = [[word for word in list(jieba.cut(document, cut_all=False)) if word not in stoplist]\n",
    "         for document in documents]\n",
    "    # 去掉只出现低于 freq 次的单词\n",
    "    frequency = defaultdict(int)\n",
    "    for text in texts:\n",
    "        for token in text:\n",
    "            frequency[token] += 1\n",
    "    texts = [[token for token in text if frequency[token] > freq]\n",
    "             for text in texts]\n",
    "    return texts\n",
    "\n",
    "# 功能：加载 词典\n",
    "def get_dict(texts):\n",
    "    '''\n",
    "        功能：加载 词典\n",
    "        input:\n",
    "            texts  String List  分词后的 文本 \n",
    "        ouput:\n",
    "            dictionary : Dict   词典\n",
    "    '''\n",
    "    dictionary = corpora.Dictionary(texts)   # 生成词典 \n",
    "    # 将文档存入字典，字典有很多功能，比如\n",
    "    # diction.token2id 存放的是单词-id key-value对\n",
    "    # diction.dfs 存放的是单词的出现频率\n",
    "    dictionary.save('output/deerwester_zh.dict')  # store the dictionary, for future reference\n",
    "    corpus = [dictionary.doc2bow(text) for text in texts]\n",
    "    corpus = [dictionary.doc2bow(text) for text in texts]\n",
    "    corpora.MmCorpus.serialize('output/deerwester_zh.mm', corpus)  # store to disk, for later use\n",
    "    return dictionary\n",
    "\n",
    "# 功能：利用指标确定 主题数\n",
    "def evaluate_coherence_values(Model,dictionary, corpus, texts, limit, start=2, step=3, coherence='c_v'):\n",
    "    \"\"\"\n",
    "        Compute c_v or u_mass coherence for various number of topics\n",
    "        decs:\n",
    "            通过CoherenceModel这个类中的两个指标 --- U_Mass Coherence和C_V coherence来判定主题模\n",
    "            型质量的好坏（对文本的主题区分度效果，即能将混沌的语料切分出人类可理解的主题），这两个指标都是\n",
    "            数值越大，主题模型的效果越好。\n",
    "\n",
    "        Parameters:\n",
    "        ----------\n",
    "            Model: model  lsi_model or lda_model\n",
    "            dictionary : Gensim dictionary\n",
    "            corpus : Gensim corpus\n",
    "            texts : List of input texts\n",
    "            limit : Max num of topics\n",
    "            start: start step\n",
    "            step： step \n",
    "            coherence: 评价指标  c_v  or u_mass\n",
    "\n",
    "        Returns:\n",
    "        -------\n",
    "   \n",
    "    \"\"\"\n",
    "    coherence_values = []\n",
    "    model_list = []\n",
    "    for num_topics in range(start, limit, step):\n",
    "        model =Model(corpus, id2word=dictionary, num_topics=num_topics)\n",
    "        model_list.append(model)\n",
    "        coherencemodel = CoherenceModel(model=model, texts=texts, dictionary=dictionary, coherence=coherence)\n",
    "        coherence_values.append(coherencemodel.get_coherence())\n",
    "\n",
    "    x = range(start, limit, step)\n",
    "    plt.plot(x, coherence_values)\n",
    "    plt.xlabel(\"Num Topics\")\n",
    "    plt.ylabel(\"Coherence score\")\n",
    "    plt.legend((\"coherence_values\"), loc='best')\n",
    "    plt.show()"
   ]
  },
  {
   "cell_type": "markdown",
   "metadata": {},
   "source": [
    "## 数据预处理"
   ]
  },
  {
   "cell_type": "code",
   "execution_count": 45,
   "metadata": {},
   "outputs": [],
   "source": [
    "texts = data_process(documents)\n",
    "dictionary = get_dict(texts)"
   ]
  },
  {
   "cell_type": "markdown",
   "metadata": {},
   "source": [
    "## 数据加载"
   ]
  },
  {
   "cell_type": "code",
   "execution_count": 46,
   "metadata": {
    "scrolled": true
   },
   "outputs": [
    {
     "name": "stdout",
     "output_type": "stream",
     "text": [
      "Used files generated from first tutorial\n",
      "The info of dictionary: \n",
      "[{'freq': 1, 'id': 0, 'word': '一月'},\n",
      " {'freq': 1, 'id': 1, 'word': '一波'},\n",
      " {'freq': 38, 'id': 2, 'word': '中国'},\n",
      " {'freq': 4, 'id': 3, 'word': '五年'},\n",
      " {'freq': 2, 'id': 4, 'word': '公平性'},\n",
      " {'freq': 2, 'id': 5, 'word': '冒名顶替'},\n",
      " {'freq': 3, 'id': 6, 'word': '几年'},\n",
      " {'freq': 1, 'id': 7, 'word': '前多起'},\n",
      " {'freq': 18, 'id': 8, 'word': '包括'},\n",
      " {'freq': 6, 'id': 9, 'word': '北京'},\n",
      " {'freq': 3, 'id': 10, 'word': '发表'},\n",
      " {'freq': 3, 'id': 11, 'word': '在内'},\n",
      " {'freq': 1, 'id': 12, 'word': '多篇'},\n",
      " {'freq': 1, 'id': 13, 'word': '大陆'},\n",
      " {'freq': 2, 'id': 14, 'word': '带走'},\n",
      " {'freq': 2, 'id': 15, 'word': '延期'},\n",
      " {'freq': 4, 'id': 16, 'word': '引发'},\n",
      " {'freq': 5, 'id': 17, 'word': '当局'},\n",
      " {'freq': 3, 'id': 18, 'word': '批评'},\n",
      " {'freq': 1, 'id': 19, 'word': '拉开帷幕'},\n",
      " {'freq': 4, 'id': 20, 'word': '控制'},\n",
      " {'freq': 3, 'id': 21, 'word': '文章'},\n",
      " {'freq': 1, 'id': 22, 'word': '新一轮'},\n",
      " {'freq': 18, 'id': 23, 'word': '新冠'},\n",
      " {'freq': 2, 'id': 24, 'word': '新增'},\n",
      " {'freq': 1, 'id': 25, 'word': '最高点'},\n",
      " {'freq': 9, 'id': 26, 'word': '本周'},\n",
      " {'freq': 2, 'id': 27, 'word': '案件'},\n",
      " {'freq': 2, 'id': 28, 'word': '法学家'},\n",
      " {'freq': 2, 'id': 29, 'word': '润'},\n",
      " {'freq': 1, 'id': 30, 'word': '猛涨'},\n",
      " {'freq': 18, 'id': 31, 'word': '疫情'},\n",
      " {'freq': 3, 'id': 32, 'word': '知名'},\n",
      " {'freq': 1, 'id': 33, 'word': '站上'},\n",
      " {'freq': 2, 'id': 34, 'word': '股市'},\n",
      " {'freq': 2, 'id': 35, 'word': '舞弊'},\n",
      " {'freq': 1, 'id': 36, 'word': '警察'},\n",
      " {'freq': 3, 'id': 37, 'word': '讨论'},\n",
      " {'freq': 2, 'id': 38, 'word': '许章'},\n",
      " {'freq': 2, 'id': 39, 'word': '迎来'},\n",
      " {'freq': 2, 'id': 40, 'word': '零'},\n",
      " {'freq': 1, 'id': 41, 'word': '首现'},\n",
      " {'freq': 2, 'id': 42, 'word': '高考'},\n",
      " {'freq': 10, 'id': 43, 'word': 'BBC'},\n",
      " {'freq': 1, 'id': 44, 'word': 'BNO'},\n",
      " {'freq': 2, 'id': 45, 'word': '一系列'},\n",
      " {'freq': 2, 'id': 46, 'word': '两国'},\n",
      " {'freq': 2, 'id': 47, 'word': '中文'},\n",
      " {'freq': 1, 'id': 48, 'word': '五张'},\n",
      " {'freq': 15, 'id': 49, 'word': '会'},\n",
      " {'freq': 1, 'id': 50, 'word': '便利'},\n",
      " {'freq': 1, 'id': 51, 'word': '入籍'},\n",
      " {'freq': 1, 'id': 52, 'word': '分配'},\n",
      " {'freq': 1, 'id': 53, 'word': '协议'},\n",
      " {'freq': 1, 'id': 54, 'word': '双重标准'},\n",
      " {'freq': 7, 'id': 55, 'word': '反对'},\n",
      " {'freq': 1, 'id': 56, 'word': '发酵'},\n",
      " {'freq': 1, 'id': 57, 'word': '嘴边'},\n",
      " {'freq': 6, 'id': 58, 'word': '回应'},\n",
      " {'freq': 1, 'id': 59, 'word': '国安法'},\n",
      " {'freq': 21, 'id': 60, 'word': '国家'},\n",
      " {'freq': 1, 'id': 61, 'word': '图为'},\n",
      " {'freq': 5, 'id': 62, 'word': '外国'},\n",
      " {'freq': 7, 'id': 63, 'word': '导致'},\n",
      " {'freq': 1, 'id': 64, 'word': '居民'},\n",
      " {'freq': 1, 'id': 65, 'word': '干涉'},\n",
      " {'freq': 4, 'id': 66, 'word': '建议'},\n",
      " {'freq': 1, 'id': 67, 'word': '开启'},\n",
      " {'freq': 1, 'id': 68, 'word': '引渡'},\n",
      " {'freq': 1, 'id': 69, 'word': '成天'},\n",
      " {'freq': 1, 'id': 70, 'word': '承诺'},\n",
      " {'freq': 1, 'id': 71, 'word': '护照'},\n",
      " {'freq': 1, 'id': 72, 'word': '持有者'},\n",
      " {'freq': 5, 'id': 73, 'word': '持续'},\n",
      " {'freq': 1, 'id': 74, 'word': '挂'},\n",
      " {'freq': 1, 'id': 75, 'word': '探讨'},\n",
      " {'freq': 1, 'id': 76, 'word': '推出'},\n",
      " {'freq': 11, 'id': 77, 'word': '措施'},\n",
      " {'freq': 23, 'id': 78, 'word': '提供'},\n",
      " {'freq': 2, 'id': 79, 'word': '政策'},\n",
      " {'freq': 1, 'id': 80, 'word': '旅游'},\n",
      " {'freq': 1, 'id': 81, 'word': '暂停'},\n",
      " {'freq': 1, 'id': 82, 'word': '暴露'},\n",
      " {'freq': 1, 'id': 83, 'word': '更新'},\n",
      " {'freq': 3, 'id': 84, 'word': '机构'},\n",
      " {'freq': 1, 'id': 85, 'word': '权力'},\n",
      " {'freq': 3, 'id': 86, 'word': '此前'},\n",
      " {'freq': 2, 'id': 87, 'word': '法律'},\n",
      " {'freq': 4, 'id': 88, 'word': '海外'},\n",
      " {'freq': 1, 'id': 89, 'word': '涉港'},\n",
      " {'freq': 1, 'id': 90, 'word': '潮'},\n",
      " {'freq': 1, 'id': 91, 'word': '澳大利亚政府'},\n",
      " {'freq': 1, 'id': 92, 'word': '澳方'},\n",
      " {'freq': 11, 'id': 93, 'word': '相关'},\n",
      " {'freq': 16, 'id': 94, 'word': '称'},\n",
      " {'freq': 1, 'id': 95, 'word': '移民'},\n",
      " {'freq': 1, 'id': 96, 'word': '签证'},\n",
      " {'freq': 9, 'id': 97, 'word': '英国'},\n",
      " {'freq': 1, 'id': 98, 'word': '虚伪性'},\n",
      " {'freq': 3, 'id': 99, 'word': '西方'},\n",
      " {'freq': 1, 'id': 100, 'word': '详解'},\n",
      " {'freq': 1, 'id': 101, 'word': '说三道四'},\n",
      " {'freq': 1, 'id': 102, 'word': '路径'},\n",
      " {'freq': 8, 'id': 103, 'word': '这一'},\n",
      " {'freq': 2, 'id': 104, 'word': '采访'},\n",
      " {'freq': 2, 'id': 105, 'word': '重点'},\n",
      " {'freq': 3, 'id': 106, 'word': '香港'},\n",
      " {'freq': 1, 'id': 107, 'word': '2015'},\n",
      " {'freq': 2, 'id': 108, 'word': '300'},\n",
      " {'freq': 2, 'id': 109, 'word': '3000'},\n",
      " {'freq': 1, 'id': 110, 'word': '3100'},\n",
      " {'freq': 1, 'id': 111, 'word': '3200'},\n",
      " {'freq': 1, 'id': 112, 'word': '3300'},\n",
      " {'freq': 1, 'id': 113, 'word': '3400'},\n",
      " {'freq': 20, 'id': 114, 'word': '7'},\n",
      " {'freq': 9, 'id': 115, 'word': '8'},\n",
      " {'freq': 1, 'id': 116, 'word': '一轮'},\n",
      " {'freq': 1, 'id': 117, 'word': '七个'},\n",
      " {'freq': 1, 'id': 118, 'word': '七天'},\n",
      " {'freq': 2, 'id': 119, 'word': '三'},\n",
      " {'freq': 1, 'id': 120, 'word': '上涨'},\n",
      " {'freq': 1, 'id': 121, 'word': '五个'},\n",
      " {'freq': 1, 'id': 122, 'word': '交易日'},\n",
      " {'freq': 3, 'id': 123, 'word': '促使'},\n",
      " {'freq': 1, 'id': 124, 'word': '关口'},\n",
      " {'freq': 1, 'id': 125, 'word': '农民工'},\n",
      " {'freq': 1, 'id': 126, 'word': '创下'},\n",
      " {'freq': 2, 'id': 127, 'word': '同步'},\n",
      " {'freq': 1, 'id': 128, 'word': '困境'},\n",
      " {'freq': 2, 'id': 129, 'word': '声音'},\n",
      " {'freq': 2, 'id': 130, 'word': '复苏'},\n",
      " {'freq': 2, 'id': 131, 'word': '大学'},\n",
      " {'freq': 19, 'id': 132, 'word': '市场'},\n",
      " {'freq': 15, 'id': 133, 'word': '年'},\n",
      " {'freq': 1, 'id': 134, 'word': '底层'},\n",
      " {'freq': 3, 'id': 135, 'word': '建立'},\n",
      " {'freq': 11, 'id': 136, 'word': '影响'},\n",
      " {'freq': 1, 'id': 137, 'word': '恐'},\n",
      " {'freq': 1, 'id': 138, 'word': '截止'},\n",
      " {'freq': 17, 'id': 139, 'word': '报道'},\n",
      " {'freq': 2, 'id': 140, 'word': '指数'},\n",
      " {'freq': 8, 'id': 141, 'word': '支持'},\n",
      " {'freq': 1, 'id': 142, 'word': '放量'},\n",
      " {'freq': 1, 'id': 143, 'word': '整数'},\n",
      " {'freq': 29, 'id': 144, 'word': '日'},\n",
      " {'freq': 1, 'id': 145, 'word': '暴涨'},\n",
      " {'freq': 36, 'id': 146, 'word': '月'},\n",
      " {'freq': 2, 'id': 147, 'word': '月初'},\n",
      " {'freq': 1, 'id': 148, 'word': '本轮'},\n",
      " {'freq': 2, 'id': 149, 'word': '毕业生'},\n",
      " {'freq': 1, 'id': 150, 'word': '没'},\n",
      " {'freq': 1, 'id': 151, 'word': '沪'},\n",
      " {'freq': 1, 'id': 152, 'word': '沪综指'},\n",
      " {'freq': 1, 'id': 153, 'word': '消退'},\n",
      " {'freq': 1, 'id': 154, 'word': '深'},\n",
      " {'freq': 1, 'id': 155, 'word': '港股'},\n",
      " {'freq': 2, 'id': 156, 'word': '点'},\n",
      " {'freq': 1, 'id': 157, 'word': '状况'},\n",
      " {'freq': 2, 'id': 158, 'word': '程度'},\n",
      " {'freq': 1, 'id': 159, 'word': '突破'},\n",
      " {'freq': 9, 'id': 160, 'word': '经济'},\n",
      " {'freq': 1, 'id': 161, 'word': '股灾'},\n",
      " {'freq': 1, 'id': 162, 'word': '覆辙'},\n",
      " {'freq': 2, 'id': 163, 'word': '连续'},\n",
      " {'freq': 1, 'id': 164, 'word': '重蹈'},\n",
      " {'freq': 3, 'id': 165, 'word': '面临'},\n",
      " {'freq': 1, 'id': 166, 'word': '预期'},\n",
      " {'freq': 1, 'id': 167, 'word': '高位'},\n",
      " {'freq': 8, 'id': 168, 'word': '10'},\n",
      " {'freq': 1, 'id': 169, 'word': '1005.9'},\n",
      " {'freq': 5, 'id': 170, 'word': '11'},\n",
      " {'freq': 6, 'id': 171, 'word': '2'},\n",
      " {'freq': 6, 'id': 172, 'word': '2020'},\n",
      " {'freq': 1, 'id': 173, 'word': '32'},\n",
      " {'freq': 2, 'id': 174, 'word': '38'},\n",
      " {'freq': 6, 'id': 175, 'word': '5'},\n",
      " {'freq': 19, 'id': 176, 'word': '6'},\n",
      " {'freq': 2, 'id': 177, 'word': '一个月'},\n",
      " {'freq': 3, 'id': 178, 'word': '万人'},\n",
      " {'freq': 1, 'id': 179, 'word': '万分之三'},\n",
      " {'freq': 1, 'id': 180, 'word': '下周一'},\n",
      " {'freq': 7, 'id': 181, 'word': '世界卫生组织'},\n",
      " {'freq': 1, 'id': 182, 'word': '中小学'},\n",
      " {'freq': 1, 'id': 183, 'word': '举办'},\n",
      " {'freq': 1, 'id': 184, 'word': '之久'},\n",
      " {'freq': 1, 'id': 185, 'word': '书展'},\n",
      " {'freq': 7, 'id': 186, 'word': '传播'},\n",
      " {'freq': 1, 'id': 187, 'word': '依旧'},\n",
      " {'freq': 1, 'id': 188, 'word': '六七'},\n",
      " {'freq': 2, 'id': 189, 'word': '关门'},\n",
      " {'freq': 1, 'id': 190, 'word': '农贸市场'},\n",
      " {'freq': 1, 'id': 191, 'word': '北京市'},\n",
      " {'freq': 1, 'id': 192, 'word': '十'},\n",
      " {'freq': 1, 'id': 193, 'word': '单日'},\n",
      " {'freq': 1, 'id': 194, 'word': '发地'},\n",
      " {'freq': 3, 'id': 195, 'word': '周五'},\n",
      " {'freq': 3, 'id': 196, 'word': '大规模'},\n",
      " {'freq': 1, 'id': 197, 'word': '如期'},\n",
      " {'freq': 1, 'id': 198, 'word': '宗'},\n",
      " {'freq': 4, 'id': 199, 'word': '封闭'},\n",
      " {'freq': 1, 'id': 200, 'word': '封闭式'},\n",
      " {'freq': 1, 'id': 201, 'word': '小区'},\n",
      " {'freq': 1, 'id': 202, 'word': '幼稚园'},\n",
      " {'freq': 1, 'id': 203, 'word': '得益于'},\n",
      " {'freq': 4, 'id': 204, 'word': '感染者'},\n",
      " {'freq': 2, 'id': 205, 'word': '抗疫'},\n",
      " {'freq': 8, 'id': 206, 'word': '排除'},\n",
      " {'freq': 3, 'id': 207, 'word': '提出'},\n",
      " {'freq': 1, 'id': 208, 'word': '提前'},\n",
      " {'freq': 1, 'id': 209, 'word': '放暑假'},\n",
      " {'freq': 9, 'id': 210, 'word': '政府'},\n",
      " {'freq': 1, 'id': 211, 'word': '教育局'},\n",
      " {'freq': 3, 'id': 212, 'word': '新'},\n",
      " {'freq': 1, 'id': 213, 'word': '无症状'},\n",
      " {'freq': 1, 'id': 214, 'word': '日至'},\n",
      " {'freq': 10, 'id': 215, 'word': '时间'},\n",
      " {'freq': 1, 'id': 216, 'word': '暴露出'},\n",
      " {'freq': 1, 'id': 217, 'word': '未解'},\n",
      " {'freq': 5, 'id': 218, 'word': '本次'},\n",
      " {'freq': 2, 'id': 219, 'word': '核酸'},\n",
      " {'freq': 8, 'id': 220, 'word': '检测'},\n",
      " {'freq': 4, 'id': 221, 'word': '气溶胶'},\n",
      " {'freq': 3, 'id': 222, 'word': '波'},\n",
      " {'freq': 1, 'id': 223, 'word': '源头'},\n",
      " {'freq': 1, 'id': 224, 'word': '漏洞'},\n",
      " {'freq': 4, 'id': 225, 'word': '爆发'},\n",
      " {'freq': 4, 'id': 226, 'word': '环境'},\n",
      " {'freq': 11, 'id': 227, 'word': '病例'},\n",
      " {'freq': 14, 'id': 228, 'word': '病毒'},\n",
      " {'freq': 2, 'id': 229, 'word': '相隔'},\n",
      " {'freq': 2, 'id': 230, 'word': '确认'},\n",
      " {'freq': 7, 'id': 231, 'word': '确诊'},\n",
      " {'freq': 2, 'id': 232, 'word': '社区'},\n",
      " {'freq': 1, 'id': 233, 'word': '立法会'},\n",
      " {'freq': 1, 'id': 234, 'word': '第三'},\n",
      " {'freq': 4, 'id': 235, 'word': '管理'},\n",
      " {'freq': 5, 'id': 236, 'word': '表态'},\n",
      " {'freq': 1, 'id': 237, 'word': '议员'},\n",
      " {'freq': 1, 'id': 238, 'word': '谜团'},\n",
      " {'freq': 2, 'id': 239, 'word': '近'},\n",
      " {'freq': 1, 'id': 240, 'word': '近日'},\n",
      " {'freq': 4, 'id': 241, 'word': '途径'},\n",
      " {'freq': 2, 'id': 242, 'word': '重新考虑'},\n",
      " {'freq': 2, 'id': 243, 'word': '防控'},\n",
      " {'freq': 3, 'id': 244, 'word': '防疫'},\n",
      " {'freq': 1, 'id': 245, 'word': '阳性率'},\n",
      " {'freq': 1, 'id': 246, 'word': '难点'},\n",
      " {'freq': 1, 'id': 247, 'word': '首次'},\n",
      " {'freq': 2, 'id': 248, 'word': '首都'},\n",
      " {'freq': 1, 'id': 249, 'word': '一批'},\n",
      " {'freq': 1, 'id': 250, 'word': '上午'},\n",
      " {'freq': 4, 'id': 251, 'word': '不明'},\n",
      " {'freq': 5, 'id': 252, 'word': '事件'},\n",
      " {'freq': 1, 'id': 253, 'word': '出版'},\n",
      " {'freq': 5, 'id': 254, 'word': '原因'},\n",
      " {'freq': 1, 'id': 255, 'word'"
     ]
    },
    {
     "data": {
      "text/html": [
       "<b>limit_output extension: Maximum message size of 10000 exceeded with 48977 characters</b>"
      ]
     },
     "metadata": {},
     "output_type": "display_data"
    }
   ],
   "source": [
    "if (os.path.exists(\"output/deerwester_zh.dict\")):\n",
    "    dictionary = corpora.Dictionary.load('output/deerwester_zh.dict')\n",
    "    corpus = corpora.MmCorpus('output/deerwester_zh.mm')\n",
    "    print(\"Used files generated from first tutorial\")\n",
    "else:\n",
    "    print(\"Please run first tutorial to generate data set\")\n",
    "\n",
    "PrintDictionary(dictionary)"
   ]
  },
  {
   "cell_type": "code",
   "execution_count": 47,
   "metadata": {},
   "outputs": [
    {
     "data": {
      "text/plain": [
       "28"
      ]
     },
     "execution_count": 47,
     "metadata": {},
     "output_type": "execute_result"
    }
   ],
   "source": [
    "dictionary.dfs[dictionary.token2id['华为']]"
   ]
  },
  {
   "cell_type": "markdown",
   "metadata": {},
   "source": [
    "## 方法使用"
   ]
  },
  {
   "cell_type": "markdown",
   "metadata": {},
   "source": [
    "### TF-idf "
   ]
  },
  {
   "cell_type": "code",
   "execution_count": 48,
   "metadata": {},
   "outputs": [],
   "source": [
    "# 尝试将corpus(bow形式) 转化成tf-idf形式\n",
    "tfidf_model = models.TfidfModel(corpus) # step 1 -- initialize a model 将文档由按照词频表示 转变为按照tf-idf格式表示"
   ]
  },
  {
   "cell_type": "code",
   "execution_count": 49,
   "metadata": {},
   "outputs": [],
   "source": [
    "# 将整个corpus转为tf-idf格式\n",
    "corpus_tfidf = tfidf_model[corpus]\n",
    "# pprint(list(corpus_tfidf)[0:1])\n",
    "# pprint(list(corpus)[0:1])"
   ]
  },
  {
   "cell_type": "code",
   "execution_count": 50,
   "metadata": {},
   "outputs": [
    {
     "data": {
      "image/png": "[encoded data removed]",
      "text/plain": [
       "<Figure size 432x288 with 1 Axes>"
      ]
     },
     "metadata": {
      "needs_background": "light"
     },
     "output_type": "display_data"
    }
   ],
   "source": [
    "Show2dCorpora(corpus_tfidf)"
   ]
  },
  {
   "cell_type": "markdown",
   "metadata": {},
   "source": [
    "### LSI"
   ]
  },
  {
   "cell_type": "markdown",
   "metadata": {},
   "source": [
    "#### 确定 topics 数"
   ]
  },
  {
   "cell_type": "code",
   "execution_count": null,
   "metadata": {},
   "outputs": [],
   "source": [
    "evaluate_coherence_values(models.LsiModel,dictionary=dictionary, corpus=corpus, texts=texts, start=1, limit=10, step=2, coherence='c_v')"
   ]
  },
  {
   "cell_type": "code",
   "execution_count": 51,
   "metadata": {},
   "outputs": [
    {
     "data": {
      "image/png": "[encoded data removed]",
      "text/plain": [
       "<Figure size 432x288 with 1 Axes>"
      ]
     },
     "metadata": {
      "needs_background": "light"
     },
     "output_type": "display_data"
    }
   ],
   "source": [
    "evaluate_coherence_values(models.LsiModel,dictionary=dictionary, corpus=corpus, texts=texts, start=1, limit=10, step=2, coherence='u_mass')"
   ]
  },
  {
   "cell_type": "markdown",
   "metadata": {},
   "source": [
    "#### lsi 分析"
   ]
  },
  {
   "cell_type": "code",
   "execution_count": 52,
   "metadata": {
    "scrolled": true
   },
   "outputs": [
    {
     "data": {
      "text/plain": [
       "[[(0, -2.126872776680535), (1, 0.15532555184097202), (2, -1.0045189128501884)],\n",
       " [(0, -1.880496999728003), (1, 0.2000449450987565), (2, -0.32925024500877)],\n",
       " [(0, -3.4618029910045545), (1, 0.4672664309979741), (2, -1.461007560334423)],\n",
       " [(0, -7.234811186821637), (1, 1.360333209617436), (2, -5.545249822022745)],\n",
       " [(0, -3.018777773913761), (1, 0.44391801402646264), (2, -1.5941451452984952)],\n",
       " [(0, -3.5566818149034636), (1, 0.5396146025416477), (2, -1.6851370697894585)],\n",
       " [(0, -2.719770471049356), (1, 0.49374529899064135), (2, -1.6088099563062932)],\n",
       " [(0, -5.9711637511808995), (1, 0.7399874678961231), (2, -2.8209298292001894)],\n",
       " [(0, -4.6956241089001844), (1, 0.5384476856561153), (2, -1.3291107416171912)],\n",
       " [(0, -9.433869626540673), (1, 0.8706708424366939), (2, -4.035441374167979)],\n",
       " [(0, -3.5772251144777445),\n",
       "  (1, 0.1258629961767742),\n",
       "  (2, -0.04719943513204498)],\n",
       " [(0, -1.1725377510268125),\n",
       "  (1, 0.13873267576704063),\n",
       "  (2, -0.10798473397855822)],\n",
       " [(0, -3.8019034365226188), (1, 0.1642032066003723), (2, -0.5491582613966723)],\n",
       " [(0, -1.8688621972304107),\n",
       "  (1, 0.34235974041525014),\n",
       "  (2, -1.4255256477593834)],\n",
       " [(0, -2.402137184916138), (1, 0.6006529206377859), (2, -2.8576119235156363)],\n",
       " [(0, -4.248701693918567), (1, 0.7372063087249426), (2, -4.228067337396806)],\n",
       " [(0, -2.4379518282307724), (1, 0.2575121142999488), (2, -1.9974544027501062)],\n",
       " [(0, -3.226902289407777), (1, 0.8622927396515988), (2, -4.0638562972512124)],\n",
       " [(0, -1.419001421340923), (1, 0.2695967593174336), (2, -1.0500086202616103)],\n",
       " [(0, -2.0577963416974963),\n",
       "  (1, 0.39248161122823166),\n",
       "  (2, -1.0802954183447087)],\n",
       " [(0, -2.615987836377791), (1, 0.5381795246498332), (2, -2.02518298412403)],\n",
       " [(0, -2.4034842053255567), (1, 0.5101415005413639), (2, -1.7450107226124796)],\n",
       " [(0, -3.984712912607291), (1, 0.7537582684010011), (2, -2.6662215569678427)],\n",
       " [(0, -2.2980720224681477), (1, 0.39219233105569007), (2, -1.3581257554108)],\n",
       " [(0, -5.1302248145044445), (1, 0.6604939323603849), (2, -2.900092574987539)],\n",
       " [(0, -1.2337988899227201),\n",
       "  (1, 0.23603594098330302),\n",
       "  (2, -0.6060309675273078)],\n",
       " [(0, -3.8146052355586653), (1, 0.6751830705825697), (2, -2.4722535322699883)],\n",
       " [(0, -1.592240392752981), (1, 0.366320610652036), (2, -1.3745675829783282)],\n",
       " [(0, -6.200212638807633), (1, 1.31454055320703), (2, -4.551626448398941)],\n",
       " [(0, -1.990216150588064), (1, 0.4499735348753213), (2, -1.9168629096377938)],\n",
       " [(0, -2.365044969826723), (1, 0.49123987328685464), (2, -1.6620524279296938)],\n",
       " [(0, -1.1912289325378855),\n",
       "  (1, 0.23478618019222453),\n",
       "  (2, -0.9110401769089742)],\n",
       " [(0, -6.870983610328558), (1, 1.1577727902146324), (2, -5.956419757301145)],\n",
       " [(0, -1.6092855385391545), (1, 0.2538920480995589), (2, -1.0354719553931995)],\n",
       " [(0, -2.326282746278616), (1, 0.5272250418870807), (2, -1.85870454320581)],\n",
       " [(0, -2.2702785258278975), (1, 0.4060374441725254), (2, -1.2103458460414647)],\n",
       " [(0, -5.829701196517242), (1, 1.4581377471058166), (2, 6.328479185397351)],\n",
       " [(0, -1.5634791604297855), (1, 0.4668738622330669), (2, 2.4719560506113196)],\n",
       " [(0, -0.921476967645321), (1, -0.3895680921332128), (2, 1.0052601632212157)],\n",
       " [(0, -1.7540439736900733), (1, 0.46467788721150105), (2, 3.041182032309955)],\n",
       " [(0, -1.4783035989360955), (1, 0.09577228443811284), (2, 1.9383275885706335)],\n",
       " [(0, -1.9704614186370828),\n",
       "  (1, -0.21096040105948446),\n",
       "  (2, 1.2540781569591675)],\n",
       " [(0, -1.563764868150852), (1, 0.046375958050404675), (2, 1.7389489488983698)],\n",
       " [(0, -1.1237614185627103),\n",
       "  (1, 0.010260362154256459),\n",
       "  (2, 1.4654385631195432)],\n",
       " [(0, -2.03397680292467),\n",
       "  (1, 0.0003427727549660752),\n",
       "  (2, 0.28319540976889757)],\n",
       " [(0, -0.739218102884935),\n",
       "  (1, -0.01315398458009141),\n",
       "  (2, 0.05261061736487481)],\n",
       " [(0, -3.693401860326986), (1, 0.7044749747572184), (2, -0.07391830032268776)],\n",
       " [(0, -0.9842022957854657),\n",
       "  (1, -0.04898123204892298),\n",
       "  (2, 0.3636435281871222)],\n",
       " [(0, -0.6153569442568709),\n",
       "  (1, 0.11584526180331108),\n",
       "  (2, 0.15427528987326425)],\n",
       " [(0, -1.585081918404878), (1, 0.2880066908280349), (2, -0.1928886528050942)],\n",
       " [(0, -0.6772013708294765),\n",
       "  (1, -0.08850390205100456),\n",
       "  (2, -0.03209064773119966)],\n",
       " [(0, -0.899953525265646), (1, 0.2832328334708307), (2, 1.3341453764481521)],\n",
       " [(0, -2.0271194964145067), (1, 0.4806772481792346), (2, 1.8620182315068474)],\n",
       " [(0, -0.13030752424673647),\n",
       "  (1, 0.029488767452113776),\n",
       "  (2, 0.04798720371987485)],\n",
       " [(0, -1.425617444886712), (1, 0.2211402450264128), (2, 1.7020452833558857)],\n",
       " [(0, -0.4681857474318881),\n",
       "  (1, 0.09470144649145489),\n",
       "  (2, 0.21018794433643562)],\n",
       " [(0, -1.456221149999468), (1, 0.4118026037695525), (2, 2.2290803592499966)],\n",
       " [(0, -1.2515954989048583), (1, 0.37820723132952955), (2, 2.0198386748218526)],\n",
       " [(0, -2.094475552452653), (1, 0.568005301613458), (2, 1.5372128838343104)],\n",
       " [(0, -2.3867679347210267), (1, 0.4970108941314828), (2, 1.0676510251447708)],\n",
       " [(0, -2.229078404311754), (1, 0.5385107190590795), (2, 2.2644608913051547)],\n",
       " [(0, -1.4622842669124627), (1, 0.362756263465582), (2, 1.144790217670649)],\n",
       " [(0, -3.0924507908438392), (1, 0.8606267430739251), (2, 4.229540947762397)],\n",
       " [(0, -8.120341573679768), (1, 2.3206984500213284), (2, 9.606661782098707)],\n",
       " [(0, -2.4605330248577078), (1, 0.6780955768447495), (2, 2.690929892263116)],\n",
       " [(0, -1.178388524357494), (1, 0.2300295024363342), (2, 0.6045432620722468)],\n",
       " [(0, -2.996121814749), (1, 0.5639905549007761), (2, 1.201566356148761)],\n",
       " [(0, -0.8709479207380341),\n",
       "  (1, -0.00457443614882351),\n",
       "  (2, 0.6678149801076056)],\n",
       " [(0, -1.8806735774780097), (1, 0.26724991616709803), (2, 1.332385768474729)],\n",
       " [(0, -1.151822979202954), (1, 0.33547292824025954), (2, 1.3554280529384133)],\n",
       " [(0, -2.232252398043605), (1, 0.46837783801214616), (2, 3.3200650698751684)],\n",
       " [(0, -1.9670918087488598),\n",
       "  (1, 0.34049735465761577),\n",
       "  (2, -0.6563578836820027)],\n",
       " [(0, -2.4854400095738045), (1, 0.37327799989605265), (2, 0.5588742860077163)],\n",
       " [(0, -2.876715126023563), (1, 0.658451997867179), (2, 4.126856329820078)],\n",
       " [(0, -2.286429292129413), (1, 0.47244680004836737), (2, 2.3530316235432642)],\n",
       " [(0, -1.1135201552327507), (1, 0.12277433751776437), (2, 1.2328105854111815)],\n",
       " [(0, -2.8057524963396996), (1, 0.6714334834619086), (2, 3.4395675304898385)],\n",
       " [(0, -1.2411650340671962), (1, 0.21869397421905568), (2, 1.1385297439100992)],\n",
       " [(0, -1.9065514918148088), (1, 0.28759043854133126), (2, 2.458445702385887)],\n",
       " [(0, -1.625400658327478), (1, 0.42899688954804843), (2, 2.327580837476456)],\n",
       " [(0, -1.6698504692856284), (1, 0.41877514384773623), (2, 2.191552762269608)],\n",
       " [(0, -3.6526429453355593), (1, 0.8036504935890099), (2, 5.827682472323857)],\n",
       " [(0, -4.751070487023066), (1, 0.9267321309761629), (2, 4.8997065287626)],\n",
       " [(0, -2.441237871937803), (1, 0.4097888263488646), (2, 1.3749049719389193)],\n",
       " [(0, -2.014488993784513), (1, 0.2803753498960795), (2, 0.5548899554552943)],\n",
       " [(0, -3.674008934594473), (1, 0.12795296372752551), (2, 1.3901790151747155)],\n",
       " [(0, -2.003109406846691), (1, 0.3745695762850535), (2, 1.4788661522203066)],\n",
       " [(0, -1.1211681913670632),\n",
       "  (1, 0.19647568376152064),\n",
       "  (2, 0.33962333193899397)],\n",
       " [(0, -1.3410808652374877), (1, 0.16606567943639639), (2, 1.7864615599976412)],\n",
       " [(0, -1.1407487679688713),\n",
       "  (1, 0.15053716913389403),\n",
       "  (2, 0.40573736814416833)],\n",
       " [(0, -1.3904671792022019), (1, 0.33079377804606636), (2, 1.8317841300866224)],\n",
       " [(0, -0.5455976097147363), (1, 0.13573888533827833), (2, 0.5909455869365031)],\n",
       " [(0, -0.9605021636503955), (1, 0.14924760003188114), (2, 0.3301246139591028)],\n",
       " [(0, -1.3140069475581355), (1, 0.2871775805682627), (2, 0.36149070701435165)],\n",
       " [(0, -0.416256508189095), (1, 0.09106770096777583), (2, 0.36668467159314616)],\n",
       " [(0, -0.27517573467345713),\n",
       "  (1, -0.07007360847153393),\n",
       "  (2, 0.30099101833812225)],\n",
       " [(0, -0.9630506439866815), (1, 0.3096497496016028), (2, 1.449405524046677)],\n",
       " [(0, -0.583497580559884), (1, 0.13077402766427837), (2, -0.0662326378481455)],\n",
       " [(0, -1.1008788793299134), (1, 0.002350512122946025), (2, 0.744072471107137)],\n",
       " [(0, -0.041337793371052346),\n",
       "  (1, 0.009358771551589155),\n",
       "  (2, 0.029537145354867383)],\n",
       " [(0, -0.7150377017048024), (1, 0.21931222332153535), (2, 1.1118018070548692)],\n",
       " [(0, -1.9708530610117874), (1, 0.36122404520761875), (2, 0.9644783650354057)],\n",
       " [(0, -4.009317388609058), (1, -23.638937226768025), (2, 0.7494893593185384)],\n",
       " [(0, -5.201114316248337), (1, -8.034035921551789), (2, -0.16985272623417288)],\n",
       " [(0, -0.21473274737963363),\n",
       "  (1, -0.1338443315896182),\n",
       "  (2, 0.2015888923518086)],\n",
       " [(0, -1.0717299903841466), (1, -0.6797462124267255), (2, 0.5322513237423707)],\n",
       " [(0, -0.4037353029536054),\n",
       "  (1, -0.13585703069607233),\n",
       "  (2, 0.42850164024076426)],\n",
       " [(0, -0.13269116632733782),\n",
       "  (1, 0.015432282308813862),\n",
       "  (2, 0.16055831303581705)],\n",
       " [(0, -0.13484473913041628),\n",
       "  (1, -0.1939541945921361),\n",
       "  (2, 0.015969248907871103)],\n",
       " [(0, -0.6154910559444022), (1, -0.858020931466307), (2, 0.07628156593995364)],\n",
       " [(0, -1.6057678055904907),\n",
       "  (1, -0.9607326394847624),\n",
       "  (2, -0.10439377748360675)],\n",
       " [(0, -0.37497813340999175),\n",
       "  (1, -0.7851991852700517),\n",
       "  (2, 0.0999826232836664)],\n",
       " [(0, -1.065201662675237), (1, -0.9859867635467134), (2, 0.28291720252862235)],\n",
       " [(0, -0.8905509299223577),\n",
       "  (1, -0.30029877121207266),\n",
       "  (2, 0.6057828162167171)],\n",
       " [(0, -0.3779633720194218),\n",
       "  (1, -0.4651338970163512),\n",
       "  (2, 0.31938840363367205)],\n",
       " [(0, -1.3337595020399255), (1, -2.73637765573481), (2, 0.04971003983446918)],\n",
       " [(0, -0.5676045522178338),\n",
       "  (1, -0.36389508577188595),\n",
       "  (2, 0.5301735085561746)],\n",
       " [(0, -0.6360599317843819),\n",
       "  (1, -0.04809976034803496),\n",
       "  (2, 0.8230332966102253)],\n",
       " [(0, -0.5319465769893813), (1, -0.7264769160963752), (2, 0.459008231937705)],\n",
       " [(0, -0.17006573041753612),\n",
       "  (1, -0.25195833232426046),\n",
       "  (2, 0.10754489217821533)]]"
      ]
     },
     "execution_count": 52,
     "metadata": {},
     "output_type": "execute_result"
    }
   ],
   "source": [
    "# 转化为lsi模型, 可用作聚类或分类\n",
    "lsi_model = models.LsiModel(corpus, id2word=dictionary, num_topics=3)\n",
    "corpus_lsi = lsi_model[corpus]\n",
    "list(corpus_lsi)"
   ]
  },
  {
   "cell_type": "code",
   "execution_count": 53,
   "metadata": {},
   "outputs": [
    {
     "data": {
      "image/png": "[encoded data removed]",
      "text/plain": [
       "<Figure size 432x288 with 1 Axes>"
      ]
     },
     "metadata": {
      "needs_background": "light"
     },
     "output_type": "display_data"
    }
   ],
   "source": [
    "Show2dCorpora(corpus_lsi)"
   ]
  },
  {
   "cell_type": "code",
   "execution_count": 54,
   "metadata": {},
   "outputs": [
    {
     "data": {
      "text/plain": [
       "[(0, '-0.397*\"中国\" + -0.286*\"月\" + -0.243*\"日\" + -0.240*\"5G\" + -0.230*\"美国\"'),\n",
       " (1, '-0.894*\"机器人\" + -0.175*\"智能\" + -0.149*\"包括\" + -0.132*\"工业\" + 0.078*\"5G\"'),\n",
       " (2, '0.436*\"5G\" + 0.291*\"设备\" + 0.279*\"印度\" + 0.262*\"华\" + -0.188*\"月\"')]"
      ]
     },
     "execution_count": 54,
     "metadata": {},
     "output_type": "execute_result"
    }
   ],
   "source": [
    "lsi_model.show_topics(num_words=5)"
   ]
  },
  {
   "cell_type": "code",
   "execution_count": 55,
   "metadata": {},
   "outputs": [
    {
     "name": "stdout",
     "output_type": "stream",
     "text": [
      "[[(0, -2.126872776680535), (1, 0.15532555184097202), (2, -1.0045189128501884)]]\n"
     ]
    },
    {
     "data": {
      "text/plain": [
       "[(0,\n",
       "  '-0.397*\"中国\" + -0.286*\"月\" + -0.243*\"日\" + -0.240*\"5G\" + -0.230*\"美国\" + -0.181*\"印度\" + -0.163*\"设备\" + -0.156*\"中\" + -0.153*\"华\" + -0.140*\"机器人\"'),\n",
       " (1,\n",
       "  '-0.894*\"机器人\" + -0.175*\"智能\" + -0.149*\"包括\" + -0.132*\"工业\" + 0.078*\"5G\" + -0.075*\"服务\" + -0.075*\"家用\" + -0.075*\"行业\" + -0.074*\"万台\" + -0.071*\"分为\"'),\n",
       " (2,\n",
       "  '0.436*\"5G\" + 0.291*\"设备\" + 0.279*\"印度\" + 0.262*\"华\" + -0.188*\"月\" + -0.179*\"病毒\" + 0.177*\"网络\" + 0.171*\"华为\" + -0.158*\"传播\" + -0.144*\"疫情\"')]"
      ]
     },
     "execution_count": 55,
     "metadata": {},
     "output_type": "execute_result"
    }
   ],
   "source": [
    "nodes = list(corpus_lsi)\n",
    "pprint(nodes[0:1])\n",
    "lsi_model.print_topics(3) # 打印各topic的含义"
   ]
  },
  {
   "cell_type": "code",
   "execution_count": 56,
   "metadata": {},
   "outputs": [],
   "source": [
    "lsi_model.save('output/model_zh.lsi') # same for tfidf, lda, ...\n",
    "lsi_model = models.LsiModel.load('output/model_zh.lsi')"
   ]
  },
  {
   "cell_type": "markdown",
   "metadata": {},
   "source": [
    "### LDA 模型"
   ]
  },
  {
   "cell_type": "markdown",
   "metadata": {},
   "source": [
    "#### 确定 topics 数"
   ]
  },
  {
   "cell_type": "code",
   "execution_count": 432,
   "metadata": {},
   "outputs": [
    {
     "data": {
      "image/png": "[encoded data removed]",
      "text/plain": [
       "<Figure size 432x288 with 1 Axes>"
      ]
     },
     "metadata": {
      "needs_background": "light"
     },
     "output_type": "display_data"
    }
   ],
   "source": [
    "evaluate_coherence_values(models.LdaModel,dictionary=dictionary, corpus=corpus, texts=texts, start=1, limit=10, step=2, coherence='c_v')"
   ]
  },
  {
   "cell_type": "code",
   "execution_count": 57,
   "metadata": {},
   "outputs": [
    {
     "data": {
      "image/png": "[encoded data removed]",
      "text/plain": [
       "<Figure size 432x288 with 1 Axes>"
      ]
     },
     "metadata": {
      "needs_background": "light"
     },
     "output_type": "display_data"
    }
   ],
   "source": [
    "evaluate_coherence_values(models.LdaModel,dictionary=dictionary, corpus=corpus, texts=texts, start=1, limit=10, step=2, coherence='u_mass')"
   ]
  },
  {
   "cell_type": "markdown",
   "metadata": {},
   "source": [
    "#### LDA 分析"
   ]
  },
  {
   "cell_type": "code",
   "execution_count": 58,
   "metadata": {},
   "outputs": [],
   "source": [
    "lda_model = models.LdaModel(corpus, id2word=dictionary, iterations=50, num_topics=3)\n",
    "corpus_lda = lda_model[corpus]\n",
    "# list(corpus_lda)"
   ]
  },
  {
   "cell_type": "code",
   "execution_count": 59,
   "metadata": {
    "collapsed": true
   },
   "outputs": [
    {
     "name": "stdout",
     "output_type": "stream",
     "text": [
      "x:[(0, 0.99072385)]\n",
      "x:[(0, 0.9913834)]\n",
      "x:[(0, 0.994219)]\n",
      "x:[(1, 0.9876563)]\n",
      "x:[(1, 0.9859755)]\n",
      "x:[(0, 0.9927842)]\n",
      "x:[(1, 0.99342304)]\n",
      "x:[(2, 0.99352854)]\n",
      "x:[(2, 0.99068016)]\n",
      "x:[(1, 0.9929505)]\n",
      "x:[(0, 0.98845774)]\n",
      "x:[(0, 0.987287)]\n",
      "x:[(0, 0.99193025)]\n",
      "x:[(1, 0.992783)]\n",
      "x:[(1, 0.9922419)]\n",
      "x:[(2, 0.9861824)]\n",
      "x:[(1, 0.98304844)]\n",
      "x:[(2, 0.99058867)]\n",
      "x:[(1, 0.9820698)]\n",
      "x:[(1, 0.9917714)]\n",
      "x:[(2, 0.9860328)]\n",
      "x:[(2, 0.98632103)]\n",
      "x:[(2, 0.99242985)]\n",
      "x:[(1, 0.9898931)]\n",
      "x:[(2, 0.9828032)]\n",
      "x:[(0, 0.98732007)]\n",
      "x:[(0, 0.9890797)]\n",
      "x:[(0, 0.99055004)]\n",
      "x:[(0, 0.9899117)]\n",
      "x:[(1, 0.98686385)]\n",
      "x:[(1, 0.9858567)]\n",
      "x:[(1, 0.9812493)]\n",
      "x:[(1, 0.98382825)]\n",
      "x:[(2, 0.9888815)]\n",
      "x:[(1, 0.9949595)]\n",
      "x:[(0, 0.9838306)]\n",
      "x:[(0, 0.98105395)]\n",
      "x:[(0, 0.9838573)]\n",
      "x:[(0, 0.98555416)]\n",
      "x:[(0, 0.9909269)]\n",
      "x:[(1, 0.987093)]\n",
      "x:[(1, 0.98967016)]\n",
      "x:[(0, 0.99167955)]\n",
      "x:[(2, 0.9864839)]\n",
      "x:[(0, 0.99014467)]\n",
      "x:[(0, 0.9888251)]\n",
      "x:[(2, 0.9878087)]\n"
     ]
    },
    {
     "data": {
      "image/png": "[encoded data removed]",
      "text/plain": [
       "<Figure size 432x288 with 1 Axes>"
      ]
     },
     "metadata": {
      "needs_background": "light"
     },
     "output_type": "display_data"
    }
   ],
   "source": [
    "Show2dCorpora(corpus_lda)"
   ]
  },
  {
   "cell_type": "code",
   "execution_count": 60,
   "metadata": {},
   "outputs": [
    {
     "data": {
      "text/plain": [
       "[(0,\n",
       "  '0.012*\"中国\" + 0.010*\"印度\" + 0.009*\"5G\" + 0.008*\"月\" + 0.008*\"华\" + 0.006*\"美国\" + 0.006*\"设备\" + 0.006*\"中\" + 0.006*\"华为\" + 0.005*\"病毒\"'),\n",
       " (1,\n",
       "  '0.011*\"5G\" + 0.008*\"中国\" + 0.008*\"日\" + 0.007*\"月\" + 0.007*\"机器人\" + 0.006*\"华为\" + 0.006*\"华\" + 0.005*\"中\" + 0.005*\"美国\" + 0.005*\"设备\"'),\n",
       " (2,\n",
       "  '0.011*\"中国\" + 0.006*\"美国\" + 0.006*\"印度\" + 0.005*\"设备\" + 0.005*\"华\" + 0.005*\"月\" + 0.004*\"说\" + 0.004*\"日\" + 0.004*\"包括\" + 0.004*\"中\"')]"
      ]
     },
     "execution_count": 60,
     "metadata": {},
     "output_type": "execute_result"
    }
   ],
   "source": [
    "lda_model.show_topics(num_words=10)"
   ]
  },
  {
   "cell_type": "code",
   "execution_count": 61,
   "metadata": {
    "scrolled": true
   },
   "outputs": [
    {
     "data": {
      "text/plain": [
       "[(0,\n",
       "  '0.012*\"中国\" + 0.010*\"印度\" + 0.009*\"5G\" + 0.008*\"月\" + 0.008*\"华\" + 0.006*\"美国\" + 0.006*\"设备\" + 0.006*\"中\" + 0.006*\"华为\" + 0.005*\"病毒\"'),\n",
       " (1,\n",
       "  '0.011*\"5G\" + 0.008*\"中国\" + 0.008*\"日\" + 0.007*\"月\" + 0.007*\"机器人\" + 0.006*\"华为\" + 0.006*\"华\" + 0.005*\"中\" + 0.005*\"美国\" + 0.005*\"设备\"'),\n",
       " (2,\n",
       "  '0.011*\"中国\" + 0.006*\"美国\" + 0.006*\"印度\" + 0.005*\"设备\" + 0.005*\"华\" + 0.005*\"月\" + 0.004*\"说\" + 0.004*\"日\" + 0.004*\"包括\" + 0.004*\"中\"')]"
      ]
     },
     "execution_count": 61,
     "metadata": {},
     "output_type": "execute_result"
    }
   ],
   "source": [
    "# nodes = list(corpus_lda)\n",
    "# pprint(nodes)\n",
    "lda_model.print_topics(3) # 打印各topic的含义"
   ]
  },
  {
   "cell_type": "code",
   "execution_count": 62,
   "metadata": {},
   "outputs": [],
   "source": [
    "lda_model.save('output/model_zh.lda') # same for tfidf, lda, ...\n",
    "lda_model = models.LdaModel.load('output/model_zh.lda')"
   ]
  },
  {
   "cell_type": "markdown",
   "metadata": {
    "heading_collapsed": true
   },
   "source": [
    "#### 预测词汇的主题归属"
   ]
  },
  {
   "cell_type": "code",
   "execution_count": null,
   "metadata": {
    "hidden": true
   },
   "outputs": [],
   "source": [
    "#根据主题模型运行出来的结果，序号为0的暂定为“水果”，序号为1的暂定为“公司”，用来测试几个词\n",
    "topic_list = ['水果','公司']\n",
    "[(topic_list[i[0]],i[1]) for i in lda_model.get_term_topics('落叶乔木')]"
   ]
  },
  {
   "cell_type": "code",
   "execution_count": 224,
   "metadata": {
    "hidden": true
   },
   "outputs": [
    {
     "data": {
      "text/plain": [
       "[('水果', 0.014365447), ('公司', 0.045314416)]"
      ]
     },
     "execution_count": 224,
     "metadata": {},
     "output_type": "execute_result"
    }
   ],
   "source": [
    "[(topic_list[i[0]],i[1]) for i in lda_model.get_term_topics('智能手机')]"
   ]
  },
  {
   "cell_type": "markdown",
   "metadata": {
    "heading_collapsed": true
   },
   "source": [
    "#### 预测文档的主题归属"
   ]
  },
  {
   "cell_type": "markdown",
   "metadata": {
    "hidden": true
   },
   "source": [
    "get_document_topics是一个用于推断文档主题归属的函数/方法，在这里，假设一个文档可能同时包含若干个主题，但在每个主题上的概率不一样，文档最有可能从属于概率最大的主题。\n",
    "\n",
    "此外，该函数也可以让我们了解某个文档中的某个词汇在主题上的分布情况"
   ]
  },
  {
   "cell_type": "code",
   "execution_count": 257,
   "metadata": {
    "hidden": true
   },
   "outputs": [],
   "source": [
    "bow_fruit = ['苹果','树上','落叶乔木','互联网']\n",
    "bow_company = ['苹果','电脑','乔布斯']"
   ]
  },
  {
   "cell_type": "code",
   "execution_count": 260,
   "metadata": {
    "hidden": true
   },
   "outputs": [
    {
     "data": {
      "text/plain": [
       "([(0, 0.5757472), (1, 0.42425284)],\n",
       " [(1, [0, 1]), (3, [0, 1]), (6, [0, 1]), (13, [1, 0])],\n",
       " [(1, [(0, 0.6978617), (1, 0.30213407)]),\n",
       "  (3, [(0, 0.6458309), (1, 0.35416755)]),\n",
       "  (6, [(0, 0.6342633), (1, 0.36573237)]),\n",
       "  (13, [(0, 0.40198928), (1, 0.598006)])])"
      ]
     },
     "execution_count": 260,
     "metadata": {},
     "output_type": "execute_result"
    }
   ],
   "source": [
    "bow = lda_model.id2word.doc2bow(bow_fruit) # 现将文档转换为词袋表示\n",
    "doc_topics, word_topics, phi_values = lda_model.get_document_topics(bow, per_word_topics=True)\n",
    "'''\n",
    "    doc_topics:  0 的 值比较大，表示 文档 bow_fruit 偏向于 水果 \n",
    "    word_topics: \n",
    "        (1, [0, 1]):  表示 \"苹果\" 偏向于 0 ，也就是 偏向于 水果\n",
    "        (3, [0, 1]):  表示 \"苹果\" 偏向于 0 ，也就是 偏向于 水果\n",
    "        (6, [0, 1]):  表示 \"苹果\" 偏向于 0 ，也就是 偏向于 水果\n",
    "        (13, [1, 0]): 表示 \"苹果\" 偏向于 1 ，也就是 偏向于 计算机\n",
    "    phi_values： 是文档中某个词汇从属于某个主题的概率值\n",
    "        (1, [(0, 0.6987403), (1, 0.30125546)]) ：\n",
    "        (3, [(0, 0.6467843), (1, 0.35321417)]) ：\n",
    "        (6, [(0, 0.6352302), (1, 0.3647655)])  ：\n",
    "        (13, [(0, 0.40299222), (1, 0.597003)]) ：\n",
    "\n",
    "'''\n",
    "doc_topics, word_topics, phi_values"
   ]
  },
  {
   "cell_type": "code",
   "execution_count": 261,
   "metadata": {
    "hidden": true
   },
   "outputs": [
    {
     "data": {
      "text/plain": [
       "([(0, 0.1572369), (1, 0.84276307)],\n",
       " [(3, [1, 0]), (15, [1, 0]), (19, [1, 0])],\n",
       " [(3, [(0, 0.09331771), (1, 0.9066806)]),\n",
       "  (15, [(0, 0.02068906), (1, 0.9793089)]),\n",
       "  (19, [(0, 0.014593847), (1, 0.9854043)])])"
      ]
     },
     "execution_count": 261,
     "metadata": {},
     "output_type": "execute_result"
    }
   ],
   "source": [
    "bow = lda_model.id2word.doc2bow(bow_company) # 现将文档转换为词袋表示\n",
    "doc_topics, word_topics, phi_values = lda_model.get_document_topics(bow, per_word_topics=True)\n",
    "doc_topics, word_topics, phi_values"
   ]
  },
  {
   "cell_type": "code",
   "execution_count": 262,
   "metadata": {
    "hidden": true
   },
   "outputs": [
    {
     "name": "stdout",
     "output_type": "stream",
     "text": [
      "新文档:0 \n",
      " ['苹果', '叶子', '椭圆形', '树上']\n",
      "文档主题: [('水果', 0.20404471), ('公司', 0.79595524)]\n",
      "词汇主题: [('叶子', [1, 0]), ('树上', [1, 0]), ('椭圆形', [1, 0]), ('苹果', [1, 0])]\n",
      "Phi值: [('叶子', [(0, 0.06913688), (1, 0.9308596)]), ('树上', [(0, 0.20862806), (1, 0.7913669)]), ('椭圆形', [(0, 0.06940393), (1, 0.9305896)]), ('苹果', [(0, 0.17227446), (1, 0.827724)])]\n",
      " \n",
      "-------------- \n",
      "\n",
      "新文档:1 \n",
      " ['植物', '叶子', '绿色', '落叶乔木']\n",
      "文档主题: [('水果', 0.16026261), ('公司', 0.8397374)]\n",
      "词汇主题: [('叶子', [1, 0]), ('植物', [1, 0]), ('绿色', [1, 0]), ('落叶乔木', [1, 0])]\n",
      "Phi值: [('叶子', [(0, 0.044015028), (1, 0.9559816)]), ('植物', [(0, 0.12023423), (1, 0.87976086)]), ('绿色', [(0, 0.027091045), (1, 0.9729035)]), ('落叶乔木', [(0, 0.10929245), (1, 0.8907028)])]\n",
      " \n",
      "-------------- \n",
      "\n",
      "新文档:2 \n",
      " ['水果', '苹果', '红彤彤', '味道']\n",
      "文档主题: [('水果', 0.8840432), ('公司', 0.115956806)]\n",
      "词汇主题: [('苹果', [0, 1]), ('味道', [0, 1]), ('水果', [0]), ('红彤彤', [0, 1])]\n",
      "Phi值: [('苹果', [(0, 0.9612174), (1, 0.038781133)]), ('味道', [(0, 0.98415804), (1, 0.015836788)]), ('水果', [(0, 0.9914247)]), ('红彤彤', [(0, 0.9835656), (1, 0.016429085)])]\n",
      " \n",
      "-------------- \n",
      "\n",
      "新文档:3 \n",
      " ['苹果', '落叶乔木', '树上', '水果']\n",
      "文档主题: [('水果', 0.8685512), ('公司', 0.13144879)]\n",
      "词汇主题: [('树上', [0, 1]), ('苹果', [0, 1]), ('落叶乔木', [0, 1]), ('水果', [0, 1])]\n",
      "Phi值: [('树上', [(0, 0.9592195), (1, 0.04077692)]), ('苹果', [(0, 0.9489036), (1, 0.051094957)]), ('落叶乔木', [(0, 0.9464114), (1, 0.05358458)]), ('水果', [(0, 0.98858845), (1, 0.011409785)])]\n",
      " \n",
      "-------------- \n",
      "\n",
      "新文档:4 \n",
      " ['植物', '营养', '水果', '维生素']\n",
      "文档主题: [('水果', 0.88879037), ('公司', 0.11120966)]\n",
      "词汇主题: [('植物', [0, 1]), ('水果', [0]), ('维生素', [0]), ('营养', [0])]\n",
      "Phi值: [('植物', [(0, 0.96669817), (1, 0.033297908)]), ('水果', [(0, 0.9922384)]), ('维生素', [(0, 0.9931485)]), ('营养', [(0, 0.99200565)])]\n",
      " \n",
      "-------------- \n",
      "\n",
      "新文档:5 \n",
      " ['营养', '维生素', '苹果', '成分']\n",
      "文档主题: [('水果', 0.88701814), ('公司', 0.1129819)]\n",
      "词汇主题: [('苹果', [0, 1]), ('维生素', [0]), ('营养', [0]), ('成分', [0, 1])]\n",
      "Phi值: [('苹果', [(0, 0.9634724), (1, 0.036526203)]), ('维生素', [(0, 0.992883)]), ('营养', [(0, 0.9916962)]), ('成分', [(0, 0.9871308), (1, 0.012864212)])]\n",
      " \n",
      "-------------- \n",
      "\n",
      "新文档:6 \n",
      " ['互联网', '电脑', '智能手机', '高科技']\n",
      "文档主题: [('水果', 0.116189085), ('公司', 0.88381094)]\n",
      "词汇主题: [('互联网', [1, 0]), ('智能手机', [1, 0]), ('电脑', [1, 0]), ('高科技', [1, 0])]\n",
      "Phi值: [('互联网', [(0, 0.022909002), (1, 0.97708774)]), ('智能手机', [(0, 0.015842186), (1, 0.9841548)]), ('电脑', [(0, 0.0128869815), (1, 0.9871111)]), ('高科技', [(0, 0.02914351), (1, 0.97085)])]\n",
      " \n",
      "-------------- \n",
      "\n",
      "新文档:7 \n",
      " ['苹果公司', '互联网', '品质']\n",
      "文档主题: [('水果', 0.16385114), ('公司', 0.83614886)]\n",
      "词汇主题: [('互联网', [1, 0]), ('品质', [1, 0]), ('苹果公司', [1, 0])]\n",
      "Phi值: [('互联网', [(0, 0.04006255), (1, 0.95993406)]), ('品质', [(0, 0.0798031), (1, 0.9201939)]), ('苹果公司', [(0, 0.03524228), (1, 0.96475434)])]\n",
      " \n",
      "-------------- \n",
      "\n",
      "新文档:8 \n",
      " ['乔布斯', '苹果', '硅谷']\n",
      "文档主题: [('水果', 0.15541425), ('公司', 0.8445858)]\n",
      "词汇主题: [('苹果', [1, 0]), ('乔布斯', [1, 0]), ('硅谷', [1, 0])]\n",
      "Phi值: [('苹果', [(0, 0.09103419), (1, 0.90896404)]), ('乔布斯', [(0, 0.014206548), (1, 0.9857915)]), ('硅谷', [(0, 0.01605944), (1, 0.9839377)])]\n",
      " \n",
      "-------------- \n",
      "\n",
      "新文档:9 \n",
      " ['电脑', '智能手机', '苹果', '乔布斯']\n",
      "文档主题: [('水果', 0.121711984), ('公司', 0.878288)]\n",
      "词汇主题: [('苹果', [1, 0]), ('智能手机', [1, 0]), ('电脑', [1, 0]), ('乔布斯', [1, 0])]\n",
      "Phi值: [('苹果', [(0, 0.06622651), (1, 0.93377197)]), ('智能手机', [(0, 0.017633608), (1, 0.9823634)]), ('电脑', [(0, 0.014349101), (1, 0.98564893)]), ('乔布斯', [(0, 0.010102439), (1, 0.98989576)])]\n",
      " \n",
      "-------------- \n",
      "\n",
      "新文档:10 \n",
      " ['苹果电脑', '品质', '生意']\n",
      "文档主题: [('水果', 0.80899084), ('公司', 0.19100916)]\n",
      "词汇主题: [('品质', [0, 1]), ('生意', [0, 1]), ('苹果电脑', [0, 1])]\n",
      "Phi值: [('品质', [(0, 0.88301116), (1, 0.11698572)]), ('生意', [(0, 0.8814673), (1, 0.118528195)]), ('苹果电脑', [(0, 0.9719614), (1, 0.028033324)])]\n",
      " \n",
      "-------------- \n",
      "\n",
      "新文档:11 \n",
      " ['电脑', '品质', '乔布斯']\n",
      "文档主题: [('水果', 0.1491329), ('公司', 0.85086715)]\n",
      "词汇主题: [('电脑', [1, 0]), ('品质', [1, 0]), ('乔布斯', [1, 0])]\n",
      "Phi值: [('电脑', [(0, 0.01830145), (1, 0.98169655)]), ('品质', [(0, 0.06504701), (1, 0.9349501)]), ('乔布斯', [(0, 0.012900384), (1, 0.9870977)])]\n",
      " \n",
      "-------------- \n",
      "\n",
      "新文档:12 \n",
      " ['苹果公司', '生意', '硅谷']\n",
      "文档主题: [('水果', 0.15376574), ('公司', 0.84623426)]\n",
      "词汇主题: [('苹果公司', [1, 0]), ('硅谷', [1, 0]), ('生意', [1, 0])]\n",
      "Phi值: [('苹果公司', [(0, 0.030551586), (1, 0.96944517)]), ('硅谷', [(0, 0.015667763), (1, 0.98432934)]), ('生意', [(0, 0.068653695), (1, 0.93134195)])]\n",
      " \n",
      "-------------- \n",
      "\n"
     ]
    }
   ],
   "source": [
    "all_topics = lda_model.get_document_topics(corpus, per_word_topics=True)\n",
    "cnt = 0\n",
    "for doc_topics, word_topics, phi_values in all_topics:\n",
    "    print('新文档:{} \\n'.format(cnt),texts[cnt])\n",
    "    doc_topics = [(topic_list[i[0]],i[1]) for i in doc_topics]\n",
    "    word_topics = [(dictionary.id2token [i[0]],i[1]) for i in word_topics]\n",
    "    phi_values = [(dictionary.id2token [i[0]],i[1]) for i in phi_values ]\n",
    "    print('文档主题:', doc_topics)\n",
    "    print('词汇主题:', word_topics)\n",
    "    print('Phi值:', phi_values)\n",
    "    print(\" \")\n",
    "    print('-------------- \\n')\n",
    "    cnt+=1"
   ]
  },
  {
   "cell_type": "code",
   "execution_count": 233,
   "metadata": {
    "hidden": true
   },
   "outputs": [
    {
     "data": {
      "text/plain": [
       "[(3, 1), (15, 1), (19, 1)]"
      ]
     },
     "execution_count": 233,
     "metadata": {},
     "output_type": "execute_result"
    }
   ],
   "source": [
    "bow"
   ]
  },
  {
   "cell_type": "markdown",
   "metadata": {},
   "source": [
    "## 相似度计算"
   ]
  },
  {
   "cell_type": "markdown",
   "metadata": {},
   "source": [
    "这一部分主要负责计算文档间的相似度。与向量的相似度计算方式一样，采用余弦方法计算得到。一般来讲，使用lsi模型得到的向量进行计算效果比较好。"
   ]
  },
  {
   "cell_type": "markdown",
   "metadata": {},
   "source": [
    "### 预操作"
   ]
  },
  {
   "cell_type": "code",
   "execution_count": 69,
   "metadata": {},
   "outputs": [],
   "source": [
    "test_documents = [\n",
    "    \"从参与主体来看，中国人工智能企业的知识生产能力亟待提升。科研机构和大学是目前中国人工智能知识生产的主要力量。相比国外领先企业，中国企业作为一个群体的技术表现还比较逊色，在人工智能专利申请上落后于国内高校和科研院所。即使是被公认为人工智能巨头的百度、阿里巴巴、腾讯(BAT) 等企业，在人才、论文和专利方面也还没有突出的表现，而它们的美国对手 IBM、微软、谷歌等企业在每项指标的全球企业排名中均名列前茅。\"\n",
    "]\n",
    "test_text = data_process(test_documents)\n",
    "test_bow = dictionary.doc2bow(test_text[0])"
   ]
  },
  {
   "cell_type": "markdown",
   "metadata": {},
   "source": [
    "### 利用 TF-idf 、 LSI、 LDA 计算相似度"
   ]
  },
  {
   "cell_type": "code",
   "execution_count": 70,
   "metadata": {},
   "outputs": [],
   "source": [
    "model_list = [tfidf_model,lsi_model,lda_model]\n",
    "model_name = ['tfidf','lsi','lda']\n",
    "corpus_list = [corpus_tfidf,corpus_lsi,corpus_lda]\n",
    "test_res_dict = {}\n",
    "for i in range(len(model_name)):\n",
    "    test = model_list[i][test_bow]\n",
    "    test_corpus_simi_matrix = similarities.MatrixSimilarity(corpus_list[i])\n",
    "    test_simi = test_corpus_simi_matrix[test]\n",
    "    test_res_dict[model_name[i]] = list(enumerate(test_simi))\n",
    "#     print(f\"{model_name[i]}:{test_res_dict[model_name[i]]}\")\n",
    "\n",
    "test_res_list = [test_res_dict['tfidf'],test_res_dict['lsi'],test_res_dict['lda']]"
   ]
  },
  {
   "cell_type": "code",
   "execution_count": 71,
   "metadata": {},
   "outputs": [
    {
     "name": "stdout",
     "output_type": "stream",
     "text": [
      "(0, 0.015491906)\t(0, 0.89549166)\t(0, 0.99978375)\t0.6369224389394125\n",
      "(1, 0.0031413573)\t(1, 0.97749114)\t(1, 0.788953)\t0.5898618300755819\n",
      "(2, 0.023075636)\t(2, 0.908677)\t(2, 0.788953)\t0.5735685427983602\n",
      "(3, 0.0060661943)\t(3, 0.7759974)\t(3, 0.788953)\t0.5236721833546957\n",
      "(4, 0.015935928)\t(4, 0.8700564)\t(4, 0.6142128)\t0.5000683466593424\n",
      "(5, 0.052671283)\t(5, 0.8891969)\t(5, 0.9742775)\t0.6387152274449667\n",
      "(6, 0.0)\t(6, 0.8430921)\t(6, 0.6142128)\t0.48576831817626953\n",
      "(7, 0.014266154)\t(7, 0.89221066)\t(7, 0.788953)\t0.5651432673136393\n",
      "(8, 0.019542523)\t(8, 0.95261395)\t(8, 0.6142128)\t0.528789758682251\n",
      "(9, 0.036894448)\t(9, 0.9100927)\t(9, 0.01719754)\t0.3213949004809062\n",
      "(10, 0.055006135)\t(10, 0.9991979)\t(10, 0.01719754)\t0.35713382562001544\n",
      "(11, 0.013508805)\t(11, 0.9882478)\t(11, 0.7965741)\t0.5994435946146647\n",
      "(12, 0.053965926)\t(12, 0.9866135)\t(12, 0.6142128)\t0.5515974362691244\n",
      "(13, 0.0060133245)\t(13, 0.77779794)\t(13, 0.87346613)\t0.5524257818857828\n",
      "(14, 0.0)\t(14, 0.6238331)\t(14, 0.788953)\t0.47092870871225995\n",
      "(15, 0.002906338)\t(15, 0.69266915)\t(15, 0.5623969)\t0.4193241198857625\n",
      "(16, 0.007779461)\t(16, 0.7608908)\t(16, 0.788953)\t0.519207755724589\n",
      "(17, 0.0)\t(17, 0.6017409)\t(17, 0.788953)\t0.4635646343231201\n",
      "(18, 0.0062664403)\t(18, 0.78590727)\t(18, 0.99378806)\t0.5953205823898315\n",
      "(19, 0.0032797246)\t(19, 0.8666139)\t(19, 0.7004819)\t0.5234585205713908\n",
      "(20, 0.011804415)\t(20, 0.7715564)\t(20, 0.6142128)\t0.4658578634262085\n",
      "(21, 0.0)\t(21, 0.7891087)\t(21, 0.6142128)\t0.4677738348642985\n",
      "(22, 0.007565772)\t(22, 0.81297493)\t(22, 0.3928572)\t0.4044659932454427\n",
      "(23, 0.010173882)\t(23, 0.84438527)\t(23, 0.01719754)\t0.29058555761973065\n",
      "(24, 0.016315745)\t(24, 0.85769314)\t(24, 0.110144526)\t0.3280511299769084\n",
      "(25, 0.0)\t(25, 0.87861174)\t(25, 0.6142128)\t0.4976081848144531\n",
      "(26, 0.003750517)\t(26, 0.82213044)\t(26, 0.01719754)\t0.2810261646906535\n",
      "(27, 0.0)\t(27, 0.73624164)\t(27, 0.6142128)\t0.4501514832178752\n",
      "(28, 0.0)\t(28, 0.7860816)\t(28, 0.6142128)\t0.46676480770111084\n",
      "(29, 0.0)\t(29, 0.7006283)\t(29, 0.612842)\t0.43782345453898114\n",
      "(30, 0.0032802192)\t(30, 0.7983689)\t(30, 0.01719754)\t0.27294888099034625\n",
      "(31, 0.0027541819)\t(31, 0.77586037)\t(31, 0.01719754)\t0.2652707099914551\n",
      "(32, 0.00437652)\t(32, 0.7395727)\t(32, 0.969685)\t0.5712114175160726\n",
      "(33, 0.007890911)\t(33, 0.82561046)\t(33, 0.5078054)\t0.44710226853688556\n",
      "(34, 0.0034619344)\t(34, 0.7603067)\t(34, 0.01719754)\t0.26032207409540814\n",
      "(35, 0.005271511)\t(35, 0.8650101)\t(35, 0.5701834)\t0.48015499114990234\n",
      "(36, 0.018684585)\t(36, 0.68153816)\t(36, 0.6142128)\t0.43814516067504883\n",
      "(37, 0.01961759)\t(37, 0.543178)\t(37, 0.6224792)\t0.39509161313374835\n",
      "(38, 0.0)\t(38, 0.65916747)\t(38, 0.01719754)\t0.2254550059636434\n",
      "(39, 0.0)\t(39, 0.51080275)\t(39, 0.83470213)\t0.44850162665049237\n",
      "(40, 0.024384232)\t(40, 0.619567)\t(40, 0.788953)\t0.4776347478230794\n",
      "(41, 0.035270467)\t(41, 0.84828573)\t(41, 0.788953)\t0.5575030644734701\n",
      "(42, 0.0071405536)\t(42, 0.68109554)\t(42, 0.788953)\t0.49239635467529297\n",
      "(43, 0.048715014)\t(43, 0.621808)\t(43, 0.788953)\t0.48649199803670246\n",
      "(44, 0.0060766786)\t(44, 0.9925913)\t(44, 0.8255483)\t0.6080721219380697\n",
      "(45, 0.008243985)\t(45, 0.99818254)\t(45, 0.6142128)\t0.5402131080627441\n",
      "(46, 0.03435795)\t(46, 0.9832156)\t(46, 0.6988069)\t0.5721267859141032\n",
      "(47, 0.0)\t(47, 0.9422566)\t(47, 0.7976915)\t0.5799827178319296\n",
      "(48, 0.0053113713)\t(48, 0.9596129)\t(48, 0.80203503)\t0.5889864365259806\n",
      "(49, 0.0537175)\t(49, 0.9762731)\t(49, 0.9735083)\t0.6678330103556315\n",
      "(50, 0.14764167)\t(50, 0.98838735)\t(50, 0.046388347)\t0.3941391309102376\n",
      "(51, 0.0)\t(51, 0.5659003)\t(51, 0.80129606)\t0.4557321071624756\n",
      "(52, 0.01022522)\t(52, 0.73805934)\t(52, 0.14042701)\t0.29623719056447345\n",
      "(53, 0.09993862)\t(53, 0.9252462)\t(53, 0.81728)\t0.6141548951466879\n",
      "(54, 0.0)\t(54, 0.6525321)\t(54, 0.62286365)\t0.4251319169998169\n",
      "(55, 0.0055890447)\t(55, 0.90532583)\t(55, 0.63261664)\t0.5145105123519897\n",
      "(56, 0.0)\t(56, 0.5556468)\t(56, 0.79802734)\t0.45122472445170086\n",
      "(57, 0.0)\t(57, 0.53557664)\t(57, 0.62347615)\t0.38635094960530597\n",
      "(58, 0.0)\t(58, 0.7990083)\t(58, 0.6142128)\t0.4710737069447835\n",
      "(59, 0.0)\t(59, 0.90498525)\t(59, 0.6142128)\t0.5063993533452352\n",
      "(60, 0.012017524)\t(60, 0.70480514)\t(60, 0.6142128)\t0.44367849826812744\n",
      "(61, 0.0)\t(61, 0.7845022)\t(61, 0.62619436)\t0.47023216883341473\n",
      "(62, 0.025100775)\t(62, 0.5971231)\t(62, 0.01719754)\t0.2131404678026835\n",
      "(63, 0.036466133)\t(63, 0.64894015)\t(63, 0.6142128)\t0.43320635954538983\n",
      "(64, 0.025051706)\t(64, 0.67711)\t(64, 0.788953)\t0.49703824520111084\n",
      "(65, 0.0073672896)\t(65, 0.88551414)\t(65, 0.6236896)\t0.505523681640625\n",
      "(66, 0.0794268)\t(66, 0.921792)\t(66, 0.788953)\t0.5967239538828532\n",
      "(67, 0.0040221736)\t(67, 0.8036258)\t(67, 0.033173814)\t0.2802739342053731\n",
      "(68, 0.012198799)\t(68, 0.8210628)\t(68, 0.7964175)\t0.5432263612747192\n",
      "(69, 0.0)\t(69, 0.65043056)\t(69, 0.035553567)\t0.22866137822469076\n",
      "(70, 0.084042884)\t(70, 0.5689599)\t(70, 0.788953)\t0.4806519349416097\n",
      "(71, 0.0073682563)\t(71, 0.9320296)\t(71, 0.04853019)\t0.329309344291687\n",
      "(72, 0.0937721)\t(72, 0.970067)\t(72, 0.79699636)\t0.6202784776687622\n",
      "(73, 0.0037871255)\t(73, 0.58172756)\t(73, 0.795869)\t0.46046121915181476\n",
      "(74, 0.010702784)\t(74, 0.70282936)\t(74, 0.9738337)\t0.5624552567799886\n",
      "(75, 0.0)\t(75, 0.68144464)\t(75, 0.6283314)\t0.43659202257792157\n",
      "(76, 0.0)\t(76, 0.63906884)\t(76, 0.9269957)\t0.5220215320587158\n",
      "(77, 0.010860361)\t(77, 0.7430526)\t(77, 0.8024451)\t0.5187860329945883\n",
      "(78, 0.08391727)\t(78, 0.6241558)\t(78, 0.6239857)\t0.4440195957819621\n",
      "(79, 0.0)\t(79, 0.5809503)\t(79, 0.79671186)\t0.45922072728474933\n",
      "(80, 0.04566968)\t(80, 0.61361504)\t(80, 0.75176513)\t0.4703499476114909\n",
      "(81, 0.04237599)\t(81, 0.54256856)\t(81, 0.788953)\t0.4579658508300781\n",
      "(82, 0.05159541)\t(82, 0.70282)\t(82, 0.788953)\t0.5144561131795248\n",
      "(83, 0.028952163)\t(83, 0.8714141)\t(83, 0.79997575)\t0.566780686378479\n",
      "(84, 0.018377239)\t(84, 0.96094126)\t(84, 0.6245483)\t0.5346222718556722\n",
      "(85, 0.03811886)\t(85, 0.94085807)\t(85, 0.4923099)\t0.4904289245605469\n",
      "(86, 0.013642638)\t(86, 0.8065816)\t(86, 0.79713076)\t0.5391183296839396\n",
      "(87, 0.004957671)\t(87, 0.9499466)\t(87, 0.07788075)\t0.3442616860071818\n",
      "(88, 0.0)\t(88, 0.61266184)\t(88, 0.03392851)\t0.21553011735280356\n",
      "(89, 0.012752289)\t(89, 0.94147813)\t(89, 0.79664165)\t0.5836240450541178\n",
      "(90, 0.0059250346)\t(90, 0.61285555)\t(90, 0.6250065)\t0.4145956834157308\n",
      "(91, 0.0)\t(91, 0.68241113)\t(91, 0.05257412)\t0.24499507745107016\n",
      "(92, 0.009001396)\t(92, 0.94215715)\t(92, 0.038355887)\t0.32983813683191937\n",
      "(93, 0.0)\t(93, 0.94944483)\t(93, 0.8044145)\t0.5846197605133057\n",
      "(94, 0.0)\t(94, 0.75271314)\t(94, 0.03653735)\t0.2630834976832072\n",
      "(95, 0.0089835115)\t(95, 0.6756632)\t(95, 0.63809973)\t0.44091546535491943\n",
      "(96, 0.0)\t(96, 0.560083)\t(96, 0.6305226)\t0.3968685468037923\n",
      "(97, 0.0)\t(97, 0.9697159)\t(97, 0.051515535)\t0.3404104709625244\n",
      "(98, 0.0026949393)\t(98, 0.8377993)\t(98, 0.6142128)\t0.48490238189697266\n",
      "(99, 0.0)\t(99, 0.8112259)\t(99, 0.6459195)\t0.4857151508331299\n",
      "(100, 0.022238523)\t(100, 0.5489168)\t(100, 0.6327925)\t0.40131592750549316\n",
      "(101, 0.019887345)\t(101, 0.89483196)\t(101, 0.5208938)\t0.47853771845499676\n",
      "(102, 0.0)\t(102, 0.15910545)\t(102, 0.6142128)\t0.2577727635701497\n",
      "(103, 0.01773312)\t(103, 0.5356997)\t(103, 0.788953)\t0.44746192296346027\n",
      "(104, 0.0)\t(104, 0.67053807)\t(104, 0.6247914)\t0.431776483853658\n",
      "(105, 0.018050078)\t(105, 0.78085226)\t(105, 0.01719754)\t0.2720332940419515\n",
      "(106, 0.07610546)\t(106, 0.678074)\t(106, 0.037210595)\t0.26379668712615967\n",
      "(107, 0.07932745)\t(107, 0.64876664)\t(107, 0.6327239)\t0.4536060094833374\n",
      "(108, 0.17893013)\t(108, 0.56348115)\t(108, 0.64455754)\t0.4623229503631592\n",
      "(109, 0.16074903)\t(109, 0.57546)\t(109, 0.6143596)\t0.4501895507176717\n",
      "(110, 0.13434649)\t(110, 0.8512759)\t(110, 0.9290874)\t0.6382366021474203\n",
      "(111, 0.11353298)\t(111, 0.42220965)\t(111, 0.04766985)\t0.1944708228111267\n",
      "(112, 0.0016673135)\t(112, 0.7176341)\t(112, 0.788953)\t0.5027514696121216\n",
      "(113, 0.08494363)\t(113, 0.8031125)\t(113, 0.788953)\t0.5590030352274576\n",
      "(114, 0.097686164)\t(114, 0.5584329)\t(114, 0.62533593)\t0.4271516799926758\n",
      "(115, 0.075331435)\t(115, 0.43050304)\t(115, 0.88100326)\t0.4622792402903239\n",
      "(116, 0.1990901)\t(116, 0.66837794)\t(116, 0.7328848)\t0.5334509213765463\n",
      "(117, 0.0041624154)\t(117, 0.6236396)\t(117, 0.032344773)\t0.22004892428716025\n",
      "(118, 0.008537427)\t(118, 0.52766937)\t(118, 0.01719754)\t0.18446811040242514\n",
      "(119, 0.008716672)\t(119, 0.5261829)\t(119, 0.24149588)\t0.2587984800338745\n"
     ]
    }
   ],
   "source": [
    "score_list = []\n",
    "for i in range(len(test_res_list[0])):\n",
    "    score = (test_res_list[0][i][1]+test_res_list[1][i][1]+test_res_list[2][i][1])/3\n",
    "    score_list.append((i,score))\n",
    "    print(f\"{test_res_list[0][i]}\\t{test_res_list[1][i]}\\t{test_res_list[2][i]}\\t{score}\")"
   ]
  },
  {
   "cell_type": "code",
   "execution_count": 72,
   "metadata": {},
   "outputs": [],
   "source": [
    "# 获取列表的第二个元素\n",
    "def takeSecond(elem):\n",
    "    return elem[1]\n",
    "score_list.sort(key=takeSecond,reverse=True)"
   ]
  },
  {
   "cell_type": "code",
   "execution_count": 73,
   "metadata": {},
   "outputs": [
    {
     "data": {
      "text/plain": [
       "[(49, 0.6678330103556315),\n",
       " (5, 0.6387152274449667),\n",
       " (110, 0.6382366021474203),\n",
       " (0, 0.6369224389394125),\n",
       " (72, 0.6202784776687622),\n",
       " (53, 0.6141548951466879),\n",
       " (44, 0.6080721219380697),\n",
       " (11, 0.5994435946146647),\n",
       " (66, 0.5967239538828532),\n",
       " (18, 0.5953205823898315),\n",
       " (1, 0.5898618300755819),\n",
       " (48, 0.5889864365259806),\n",
       " (93, 0.5846197605133057),\n",
       " (89, 0.5836240450541178),\n",
       " (47, 0.5799827178319296),\n",
       " (2, 0.5735685427983602),\n",
       " (46, 0.5721267859141032),\n",
       " (32, 0.5712114175160726),\n",
       " (83, 0.566780686378479),\n",
       " (7, 0.5651432673136393),\n",
       " (74, 0.5624552567799886),\n",
       " (113, 0.5590030352274576),\n",
       " (41, 0.5575030644734701),\n",
       " (13, 0.5524257818857828),\n",
       " (12, 0.5515974362691244),\n",
       " (68, 0.5432263612747192),\n",
       " (45, 0.5402131080627441),\n",
       " (86, 0.5391183296839396),\n",
       " (84, 0.5346222718556722),\n",
       " (116, 0.5334509213765463),\n",
       " (8, 0.528789758682251),\n",
       " (3, 0.5236721833546957),\n",
       " (19, 0.5234585205713908),\n",
       " (76, 0.5220215320587158),\n",
       " (16, 0.519207755724589),\n",
       " (77, 0.5187860329945883),\n",
       " (55, 0.5145105123519897),\n",
       " (82, 0.5144561131795248),\n",
       " (59, 0.5063993533452352),\n",
       " (65, 0.505523681640625),\n",
       " (112, 0.5027514696121216),\n",
       " (4, 0.5000683466593424),\n",
       " (25, 0.4976081848144531),\n",
       " (64, 0.49703824520111084),\n",
       " (42, 0.49239635467529297),\n",
       " (85, 0.4904289245605469),\n",
       " (43, 0.48649199803670246),\n",
       " (6, 0.48576831817626953),\n",
       " (99, 0.4857151508331299),\n",
       " (98, 0.48490238189697266),\n",
       " (70, 0.4806519349416097),\n",
       " (35, 0.48015499114990234),\n",
       " (101, 0.47853771845499676),\n",
       " (40, 0.4776347478230794),\n",
       " (58, 0.4710737069447835),\n",
       " (14, 0.47092870871225995),\n",
       " (80, 0.4703499476114909),\n",
       " (61, 0.47023216883341473),\n",
       " (21, 0.4677738348642985),\n",
       " (28, 0.46676480770111084),\n",
       " (20, 0.4658578634262085),\n",
       " (17, 0.4635646343231201),\n",
       " (108, 0.4623229503631592),\n",
       " (115, 0.4622792402903239),\n",
       " (73, 0.46046121915181476),\n",
       " (79, 0.45922072728474933),\n",
       " (81, 0.4579658508300781),\n",
       " (51, 0.4557321071624756),\n",
       " (107, 0.4536060094833374),\n",
       " (56, 0.45122472445170086),\n",
       " (109, 0.4501895507176717),\n",
       " (27, 0.4501514832178752),\n",
       " (39, 0.44850162665049237),\n",
       " (103, 0.44746192296346027),\n",
       " (33, 0.44710226853688556),\n",
       " (78, 0.4440195957819621),\n",
       " (60, 0.44367849826812744),\n",
       " (95, 0.44091546535491943),\n",
       " (36, 0.43814516067504883),\n",
       " (29, 0.43782345453898114),\n",
       " (75, 0.43659202257792157),\n",
       " (63, 0.43320635954538983),\n",
       " (104, 0.431776483853658),\n",
       " (114, 0.4271516799926758),\n",
       " (54, 0.4251319169998169),\n",
       " (15, 0.4193241198857625),\n",
       " (90, 0.4145956834157308),\n",
       " (22, 0.4044659932454427),\n",
       " (100, 0.40131592750549316),\n",
       " (96, 0.3968685468037923),\n",
       " (37, 0.39509161313374835),\n",
       " (50, 0.3941391309102376),\n",
       " (57, 0.38635094960530597),\n",
       " (10, 0.35713382562001544),\n",
       " (87, 0.3442616860071818),\n",
       " (97, 0.3404104709625244),\n",
       " (92, 0.32983813683191937),\n",
       " (71, 0.329309344291687),\n",
       " (24, 0.3280511299769084),\n",
       " (9, 0.3213949004809062),\n",
       " (52, 0.29623719056447345),\n",
       " (23, 0.29058555761973065),\n",
       " (26, 0.2810261646906535),\n",
       " (67, 0.2802739342053731),\n",
       " (30, 0.27294888099034625),\n",
       " (105, 0.2720332940419515),\n",
       " (31, 0.2652707099914551),\n",
       " (106, 0.26379668712615967),\n",
       " (94, 0.2630834976832072),\n",
       " (34, 0.26032207409540814),\n",
       " (119, 0.2587984800338745),\n",
       " (102, 0.2577727635701497),\n",
       " (91, 0.24499507745107016),\n",
       " (69, 0.22866137822469076),\n",
       " (38, 0.2254550059636434),\n",
       " (117, 0.22004892428716025),\n",
       " (88, 0.21553011735280356),\n",
       " (62, 0.2131404678026835),\n",
       " (111, 0.1944708228111267),\n",
       " (118, 0.18446811040242514)]"
      ]
     },
     "execution_count": 73,
     "metadata": {},
     "output_type": "execute_result"
    }
   ],
   "source": [
    "score_list"
   ]
  },
  {
   "cell_type": "code",
   "execution_count": null,
   "metadata": {},
   "outputs": [],
   "source": []
  }
 ],
 "metadata": {
  "hide_input": false,
  "kernelspec": {
   "display_name": "Python 3",
   "language": "python",
   "name": "python3"
  },
  "language_info": {
   "codemirror_mode": {
    "name": "ipython",
    "version": 3
   },
   "file_extension": ".py",
   "mimetype": "text/x-python",
   "name": "python",
   "nbconvert_exporter": "python",
   "pygments_lexer": "ipython3",
   "version": "3.7.0"
  },
  "toc": {
   "base_numbering": 1,
   "nav_menu": {},
   "number_sections": true,
   "sideBar": true,
   "skip_h1_title": false,
   "title_cell": "Table of Contents",
   "title_sidebar": "Contents",
   "toc_cell": false,
   "toc_position": {},
   "toc_section_display": true,
   "toc_window_display": false
  }
 },
 "nbformat": 4,
 "nbformat_minor": 2
}
